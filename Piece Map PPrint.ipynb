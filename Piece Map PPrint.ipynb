{
 "cells": [
  {
   "cell_type": "code",
   "execution_count": 50,
   "metadata": {},
   "outputs": [],
   "source": [
    "import string\n",
    "import numpy as np\n",
    "from numpy import uint64 as u\n",
    "\n",
    "from bitboard_helpers import pprint_bb, set_bit, clear_bit\n",
    "from numpy import uint64 as u\n",
    "\n",
    "from board import Board\n",
    "from constants import Square as sq\n",
    "from game import Game\n",
    "from position import Position\n",
    "\n",
    "from bitboard_helpers import pprint_bb, set_bit, get_binary_string, make_uint64\n",
    "from constants import File, Piece, Square as sq\n",
    "from game import Game\n",
    "from move import Move"
   ]
  },
  {
   "cell_type": "code",
   "execution_count": 51,
   "metadata": {},
   "outputs": [],
   "source": [
    "game = Game()\n",
    "position = game.get_current_position()\n",
    "board = position.board"
   ]
  },
  {
   "cell_type": "code",
   "execution_count": 52,
   "metadata": {},
   "outputs": [
    {
     "name": "stdout",
     "output_type": "stream",
     "text": [
      "8  ▓ ▓ ▓ ▓ ▓ ▓ ▓ ▓\n",
      "7  ▓ ▓ ▓ ▓ ▓ ▓ ▓ ▓\n",
      "6  ░ ░ ░ ░ ░ ░ ░ ░\n",
      "5  ░ ░ ░ ░ ░ ░ ░ ░\n",
      "4  ░ ░ ░ ░ ░ ░ ░ ░\n",
      "3  ░ ░ ░ ░ ░ ░ ░ ░\n",
      "2  ▓ ▓ ▓ ▓ ▓ ▓ ▓ ▓\n",
      "1  ▓ ▓ ▓ ▓ ▓ ▓ ▓ ▓\n",
      "   A B C D E F G H\n"
     ]
    }
   ],
   "source": [
    "pprint_bb(board.occupied_squares_bb)"
   ]
  },
  {
   "cell_type": "code",
   "execution_count": 53,
   "metadata": {},
   "outputs": [],
   "source": [
    "piece_map = position.piece_map"
   ]
  },
  {
   "cell_type": "code",
   "execution_count": 70,
   "metadata": {},
   "outputs": [],
   "source": [
    "piece_to_glyph = {\n",
    "    Piece.wP: \"♙\",\n",
    "    Piece.bP: \"♟︎\",\n",
    "    Piece.wR: \"♖\",\n",
    "    Piece.bR: \"♜\",\n",
    "    Piece.wN: \"♘\",\n",
    "    Piece.bN: \"♞\",\n",
    "    Piece.wB: \"♗\",\n",
    "    Piece.bB: \"♝\",\n",
    "    Piece.wQ: \"♕\",\n",
    "    Piece.bQ: \"♛\",\n",
    "    Piece.wK: \"♔\",\n",
    "    Piece.bK: \"♚\",\n",
    "}\n",
    "\n",
    "def pprint_pieces(piece_map, board_size=8):\n",
    "    board = ['░'] * 64\n",
    "    display_rank = board_size\n",
    "    \n",
    "    for piece, squares in piece_map.items():\n",
    "        for square in squares:\n",
    "            board[square] = piece_to_glyph[piece]\n",
    "    board = np.array(board)\n",
    "    board = np.reshape(board, (8,8))\n",
    "    for i, row in enumerate(reversed(board)):\n",
    "        res = f'{display_rank} '\n",
    "        display_rank -= 1\n",
    "        for glyph in row:\n",
    "            res+=f' {glyph}'\n",
    "        print(res)\n",
    "    res = '  '\n",
    "    for char in string.ascii_uppercase[:board_size]:\n",
    "        res += f' {char}'\n",
    "    print(res)"
   ]
  },
  {
   "cell_type": "code",
   "execution_count": 71,
   "metadata": {},
   "outputs": [
    {
     "name": "stdout",
     "output_type": "stream",
     "text": [
      "8  ♜ ♞ ♝ ♛ ♚ ♝ ♞ ♜\n",
      "7  ♟︎ ♟︎ ♟︎ ♟︎ ♟︎ ♟︎ ♟︎ ♟︎\n",
      "6  ░ ░ ░ ░ ░ ░ ░ ░\n",
      "5  ░ ░ ░ ░ ░ ░ ░ ░\n",
      "4  ░ ░ ░ ░ ░ ░ ░ ░\n",
      "3  ░ ░ ░ ░ ░ ░ ░ ░\n",
      "2  ♙ ♙ ♙ ♙ ♙ ♙ ♙ ♙\n",
      "1  ♖ ♘ ♗ ♕ ♔ ♗ ♘ ♖\n",
      "   A B C D E F G H\n"
     ]
    }
   ],
   "source": [
    "pprint_pieces(piece_map)"
   ]
  },
  {
   "cell_type": "code",
   "execution_count": 73,
   "metadata": {},
   "outputs": [
    {
     "data": {
      "text/plain": [
       "bytes"
      ]
     },
     "execution_count": 73,
     "metadata": {},
     "output_type": "execute_result"
    }
   ],
   "source": [
    "type(np.uint64(1).tobytes())"
   ]
  },
  {
   "cell_type": "code",
   "execution_count": null,
   "metadata": {},
   "outputs": [],
   "source": []
  }
 ],
 "metadata": {
  "kernelspec": {
   "display_name": "Python 3",
   "language": "python",
   "name": "python3"
  },
  "language_info": {
   "codemirror_mode": {
    "name": "ipython",
    "version": 3
   },
   "file_extension": ".py",
   "mimetype": "text/x-python",
   "name": "python",
   "nbconvert_exporter": "python",
   "pygments_lexer": "ipython3",
   "version": "3.8.5"
  }
 },
 "nbformat": 4,
 "nbformat_minor": 4
}
