{
 "cells": [
  {
   "cell_type": "code",
   "execution_count": 1,
   "metadata": {},
   "outputs": [],
   "source": [
    "from wake.game import Game\n",
    "from wake.move import Move\n",
    "from wake.position import Position\n",
    "from wake.bitboard_helpers import pprint_pieces, pprint_bb, set_bit, make_uint64\n",
    "from wake.constants import Piece, Square, Color, square_map\n",
    "\n",
    "import numpy as np\n",
    "\n",
    "position = Position()"
   ]
  },
  {
   "cell_type": "markdown",
   "metadata": {},
   "source": [
    "## Promotion"
   ]
  },
  {
   "cell_type": "code",
   "execution_count": 2,
   "metadata": {},
   "outputs": [
    {
     "name": "stdout",
     "output_type": "stream",
     "text": [
      "Making Move: {'piece': 1, 'from_sq': 12, 'to_sq': 28, 'is_capture': False, 'is_en_passant': False, 'is_promotion': False, 'is_castling': False}\n",
      "EPT None\n",
      "SELF.EP? None\n",
      "is_en_passant_set True\n"
     ]
    },
    {
     "data": {
      "text/plain": [
       "'rnbqkbnr/pppppppp/8/8/4P3/8/PPPP1PPP/RNBQKBNR b KQkq e3 1 1'"
      ]
     },
     "execution_count": 2,
     "metadata": {},
     "output_type": "execute_result"
    }
   ],
   "source": [
    "m_1 = Move(Piece.wP, (Square.E2, Square.E4))\n",
    "position.make_move(m_1)"
   ]
  },
  {
   "cell_type": "code",
   "execution_count": 3,
   "metadata": {},
   "outputs": [
    {
     "name": "stdout",
     "output_type": "stream",
     "text": [
      "Making Move: {'piece': 7, 'from_sq': 52, 'to_sq': 36, 'is_capture': False, 'is_en_passant': False, 'is_promotion': False, 'is_castling': False}\n",
      "EPT 20\n",
      "SELF.EP? 20\n",
      "is_en_passant_set True\n"
     ]
    },
    {
     "data": {
      "text/plain": [
       "'rnbqkbnr/pppp1ppp/8/4p3/4P3/8/PPPP1PPP/RNBQKBNR w KQkq e6 1 2'"
      ]
     },
     "execution_count": 3,
     "metadata": {},
     "output_type": "execute_result"
    }
   ],
   "source": [
    "m_2 = Move(Piece.bP, (Square.E7, Square.E5))\n",
    "position.make_move(m_2)"
   ]
  },
  {
   "cell_type": "code",
   "execution_count": 4,
   "metadata": {},
   "outputs": [
    {
     "name": "stdout",
     "output_type": "stream",
     "text": [
      "Making Move: {'piece': 1, 'from_sq': 13, 'to_sq': 29, 'is_capture': False, 'is_en_passant': False, 'is_promotion': False, 'is_castling': False}\n",
      "EPT 44\n",
      "SELF.EP? 44\n",
      "is_en_passant_set True\n"
     ]
    },
    {
     "data": {
      "text/plain": [
       "'rnbqkbnr/pppp1ppp/8/4p3/4PP2/8/PPPP2PP/RNBQKBNR b KQkq f3 1 2'"
      ]
     },
     "execution_count": 4,
     "metadata": {},
     "output_type": "execute_result"
    }
   ],
   "source": [
    "m_3 = Move(Piece.wP, (Square.F2, Square.F4))\n",
    "position.make_move(m_3)"
   ]
  },
  {
   "cell_type": "code",
   "execution_count": 5,
   "metadata": {},
   "outputs": [
    {
     "name": "stdout",
     "output_type": "stream",
     "text": [
      "Making Move: {'piece': 7, 'from_sq': 36, 'to_sq': 29, 'is_capture': False, 'is_en_passant': False, 'is_promotion': False, 'is_castling': False}\n",
      "EPT 21\n",
      "SELF.EP? 21\n",
      "is_en_passant_set True\n"
     ]
    },
    {
     "data": {
      "text/plain": [
       "'rnbqkbnr/pppp1ppp/8/8/4Pp2/8/PPPP2PP/RNBQKBNR w KQkq f3 1 3'"
      ]
     },
     "execution_count": 5,
     "metadata": {},
     "output_type": "execute_result"
    }
   ],
   "source": [
    "m_4 = Move(Piece.bP, (Square.E5, Square.F4))\n",
    "position.make_move(m_4)"
   ]
  },
  {
   "cell_type": "code",
   "execution_count": 6,
   "metadata": {},
   "outputs": [
    {
     "name": "stdout",
     "output_type": "stream",
     "text": [
      "8  ♜ ♞ ♝ ♛ ♚ ♝ ♞ ♜\n",
      "7  ♟︎ ♟︎ ♟︎ ♟︎ ░ ♟︎ ♟︎ ♟︎\n",
      "6  ░ ░ ░ ░ ░ ░ ░ ░\n",
      "5  ░ ░ ░ ░ ░ ░ ░ ░\n",
      "4  ░ ░ ░ ░ ♙ ♟︎ ░ ░\n",
      "3  ░ ░ ░ ░ ░ ░ ░ ░\n",
      "2  ♙ ♙ ♙ ♙ ░ ░ ♙ ♙\n",
      "1  ♖ ♘ ♗ ♕ ♔ ♗ ♘ ♖\n",
      "   A B C D E F G H\n"
     ]
    }
   ],
   "source": [
    "pprint_pieces(position.piece_map)"
   ]
  },
  {
   "cell_type": "code",
   "execution_count": 7,
   "metadata": {},
   "outputs": [
    {
     "name": "stdout",
     "output_type": "stream",
     "text": [
      "Making Move: {'piece': 1, 'from_sq': 28, 'to_sq': 36, 'is_capture': False, 'is_en_passant': False, 'is_promotion': False, 'is_castling': False}\n",
      "EPT 21\n",
      "SELF.EP? 21\n",
      "is_en_passant_set True\n",
      "Making Move: {'piece': 7, 'from_sq': 53, 'to_sq': 37, 'is_capture': False, 'is_en_passant': False, 'is_promotion': False, 'is_castling': False}\n",
      "EPT 21\n",
      "SELF.EP? 21\n",
      "is_en_passant_set True\n",
      "Making Move: {'piece': 1, 'from_sq': 36, 'to_sq': 44, 'is_capture': False, 'is_en_passant': False, 'is_promotion': False, 'is_castling': False}\n",
      "EPT 45\n",
      "SELF.EP? 45\n",
      "is_en_passant_set True\n",
      "Making Move: {'piece': 7, 'from_sq': 48, 'to_sq': 32, 'is_capture': False, 'is_en_passant': False, 'is_promotion': False, 'is_castling': False}\n",
      "EPT 45\n",
      "SELF.EP? 45\n",
      "is_en_passant_set True\n",
      "Making Move: {'piece': 1, 'from_sq': 44, 'to_sq': 52, 'is_capture': False, 'is_en_passant': False, 'is_promotion': False, 'is_castling': False}\n",
      "EPT 40\n",
      "SELF.EP? 40\n",
      "is_en_passant_set True\n",
      "Making Move: {'piece': 7, 'from_sq': 32, 'to_sq': 24, 'is_capture': False, 'is_en_passant': False, 'is_promotion': False, 'is_castling': False}\n",
      "EPT 40\n",
      "SELF.EP? 40\n",
      "is_en_passant_set True\n",
      "Making Move: {'piece': 1, 'from_sq': 52, 'to_sq': 61, 'is_capture': False, 'is_en_passant': False, 'is_promotion': False, 'is_castling': False}\n",
      "EPT 40\n",
      "SELF.EP? 40\n",
      "is_en_passant_set True\n",
      "Choose promotion piece.q\n"
     ]
    },
    {
     "data": {
      "text/plain": [
       "'rnbqkQnr/1ppp2pp/8/5p2/p4p2/8/PPPP2PP/RNBQKBNR b KQkq a6 1 6'"
      ]
     },
     "execution_count": 7,
     "metadata": {},
     "output_type": "execute_result"
    }
   ],
   "source": [
    "m_5 = Move(Piece.wP, (Square.E4, Square.E5))\n",
    "position.make_move(m_5)\n",
    "m_6 = Move(Piece.bP, (Square.F7, Square.F5))\n",
    "position.make_move(m_6)\n",
    "m_7 = Move(Piece.wP, (Square.E5, Square.E6))\n",
    "position.make_move(m_7)\n",
    "m_8 = Move(Piece.bP, (Square.A7, Square.A5))\n",
    "position.make_move(m_8)\n",
    "m_9 = Move(Piece.wP, (Square.E6, Square.E7))\n",
    "position.make_move(m_9)\n",
    "m_10 = Move(Piece.bP, (Square.A5, Square.A4))\n",
    "position.make_move(m_10)\n",
    "m_11 = Move(Piece.wP, (Square.E7, Square.F8))\n",
    "position.make_move(m_11)"
   ]
  },
  {
   "cell_type": "code",
   "execution_count": 8,
   "metadata": {},
   "outputs": [
    {
     "name": "stdout",
     "output_type": "stream",
     "text": [
      "8  ♜ ♞ ♝ ♛ ♚ ♕ ♞ ♜\n",
      "7  ░ ♟︎ ♟︎ ♟︎ ░ ░ ♟︎ ♟︎\n",
      "6  ░ ░ ░ ░ ░ ░ ░ ░\n",
      "5  ░ ░ ░ ░ ░ ♟︎ ░ ░\n",
      "4  ♟︎ ░ ░ ░ ░ ♟︎ ░ ░\n",
      "3  ░ ░ ░ ░ ░ ░ ░ ░\n",
      "2  ♙ ♙ ♙ ♙ ░ ░ ♙ ♙\n",
      "1  ♖ ♘ ♗ ♕ ♔ ♗ ♘ ♖\n",
      "   A B C D E F G H\n"
     ]
    }
   ],
   "source": [
    "pprint_pieces(position.piece_map)"
   ]
  },
  {
   "cell_type": "code",
   "execution_count": 9,
   "metadata": {},
   "outputs": [
    {
     "name": "stdout",
     "output_type": "stream",
     "text": [
      "8  ░ ░ ░ ░ ▓ ░ ▓ ░\n",
      "7  ░ ░ ░ ░ ▓ ▓ ▓ ░\n",
      "6  ░ ░ ░ ▓ ░ ▓ ░ ░\n",
      "5  ░ ░ ▓ ░ ░ ▓ ░ ▓\n",
      "4  ░ ▓ ░ ░ ░ ░ ▓ ░\n",
      "3  ▓ ░ ░ ░ ░ ▓ ░ ░\n",
      "2  ░ ░ ░ ░ ▓ ░ ░ ░\n",
      "1  ░ ░ ░ ░ ░ ░ ░ ░\n",
      "   A B C D E F G H\n"
     ]
    }
   ],
   "source": [
    "pprint_bb(position.white_queen_attacks)"
   ]
  },
  {
   "cell_type": "markdown",
   "metadata": {},
   "source": [
    "## En Passant"
   ]
  },
  {
   "cell_type": "code",
   "execution_count": 10,
   "metadata": {},
   "outputs": [
    {
     "name": "stdout",
     "output_type": "stream",
     "text": [
      "Making Move: {'piece': 1, 'from_sq': 12, 'to_sq': 28, 'is_capture': False, 'is_en_passant': False, 'is_promotion': False, 'is_castling': False}\n",
      "EPT None\n",
      "SELF.EP? None\n",
      "is_en_passant_set True\n",
      "Making Move: {'piece': 7, 'from_sq': 52, 'to_sq': 36, 'is_capture': False, 'is_en_passant': False, 'is_promotion': False, 'is_castling': False}\n",
      "EPT 20\n",
      "SELF.EP? 20\n",
      "is_en_passant_set True\n",
      "Making Move: {'piece': 1, 'from_sq': 13, 'to_sq': 29, 'is_capture': False, 'is_en_passant': False, 'is_promotion': False, 'is_castling': False}\n",
      "EPT 44\n",
      "SELF.EP? 44\n",
      "is_en_passant_set True\n",
      "Making Move: {'piece': 7, 'from_sq': 36, 'to_sq': 29, 'is_capture': False, 'is_en_passant': False, 'is_promotion': False, 'is_castling': False}\n",
      "EPT 21\n",
      "SELF.EP? 21\n",
      "is_en_passant_set True\n"
     ]
    },
    {
     "data": {
      "text/plain": [
       "'rnbqkbnr/pppp1ppp/8/8/4Pp2/8/PPPP2PP/RNBQKBNR w KQkq f3 1 3'"
      ]
     },
     "execution_count": 10,
     "metadata": {},
     "output_type": "execute_result"
    }
   ],
   "source": [
    "position = Position()\n",
    "\n",
    "m_1 = Move(Piece.wP, (Square.E2, Square.E4))\n",
    "m_2 = Move(Piece.bP, (Square.E7, Square.E5))\n",
    "m_3 = Move(Piece.wP, (Square.F2, Square.F4))\n",
    "m_4 = Move(Piece.bP, (Square.E5, Square.F4))\n",
    "\n",
    "position.make_move(m_1)\n",
    "position.make_move(m_2)\n",
    "position.make_move(m_3)\n",
    "position.make_move(m_4)"
   ]
  },
  {
   "cell_type": "code",
   "execution_count": 11,
   "metadata": {},
   "outputs": [
    {
     "name": "stdout",
     "output_type": "stream",
     "text": [
      "Making Move: {'piece': 1, 'from_sq': 28, 'to_sq': 36, 'is_capture': False, 'is_en_passant': False, 'is_promotion': False, 'is_castling': False}\n",
      "EPT 21\n",
      "SELF.EP? 21\n",
      "is_en_passant_set True\n",
      "Making Move: {'piece': 7, 'from_sq': 53, 'to_sq': 37, 'is_capture': False, 'is_en_passant': False, 'is_promotion': False, 'is_castling': False}\n",
      "EPT 21\n",
      "SELF.EP? 21\n",
      "is_en_passant_set True\n"
     ]
    },
    {
     "data": {
      "text/plain": [
       "'rnbqkbnr/pppp2pp/8/4Pp2/5p2/8/PPPP2PP/RNBQKBNR w KQkq f6 1 4'"
      ]
     },
     "execution_count": 11,
     "metadata": {},
     "output_type": "execute_result"
    }
   ],
   "source": [
    "m_5 = Move(Piece.wP, (Square.E4, Square.E5))\n",
    "m_6 = Move(Piece.bP, (Square.F7, Square.F5))\n",
    "\n",
    "position.make_move(m_5)\n",
    "position.make_move(m_6)"
   ]
  },
  {
   "cell_type": "code",
   "execution_count": 12,
   "metadata": {},
   "outputs": [
    {
     "name": "stdout",
     "output_type": "stream",
     "text": [
      "Making Move: {'piece': 1, 'from_sq': 36, 'to_sq': 45, 'is_capture': False, 'is_en_passant': False, 'is_promotion': False, 'is_castling': False}\n",
      "EPT 45\n",
      "SELF.EP? 45\n",
      "EN_P_CAPTURE!\n",
      "is_en_passant_set True\n",
      "8  ♜ ♞ ♝ ♛ ♚ ♝ ♞ ♜\n",
      "7  ♟︎ ♟︎ ♟︎ ♟︎ ░ ░ ♟︎ ♟︎\n",
      "6  ░ ░ ░ ░ ░ ♙ ░ ░\n",
      "5  ░ ░ ░ ░ ░ ░ ░ ░\n",
      "4  ░ ░ ░ ░ ░ ♟︎ ░ ░\n",
      "3  ░ ░ ░ ░ ░ ░ ░ ░\n",
      "2  ♙ ♙ ♙ ♙ ░ ░ ♙ ♙\n",
      "1  ♖ ♘ ♗ ♕ ♔ ♗ ♘ ♖\n",
      "   A B C D E F G H\n"
     ]
    }
   ],
   "source": [
    "m_7 = Move(Piece.wP, (Square.E5, Square.F6))\n",
    "position.make_move(m_7)\n",
    "pprint_pieces(position.piece_map)"
   ]
  },
  {
   "cell_type": "code",
   "execution_count": null,
   "metadata": {},
   "outputs": [],
   "source": []
  }
 ],
 "metadata": {
  "kernelspec": {
   "display_name": "Python 3",
   "language": "python",
   "name": "python3"
  },
  "language_info": {
   "codemirror_mode": {
    "name": "ipython",
    "version": 3
   },
   "file_extension": ".py",
   "mimetype": "text/x-python",
   "name": "python",
   "nbconvert_exporter": "python",
   "pygments_lexer": "ipython3",
   "version": "3.8.5"
  }
 },
 "nbformat": 4,
 "nbformat_minor": 4
}
