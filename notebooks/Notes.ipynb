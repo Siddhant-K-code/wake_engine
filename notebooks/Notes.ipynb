{
 "cells": [
  {
   "cell_type": "code",
   "execution_count": 1,
   "metadata": {},
   "outputs": [],
   "source": [
    "from wake.game import Game\n",
    "from wake.move import Move\n",
    "from wake.position import Position\n",
    "from wake.bitboard_helpers import pprint_pieces, pprint_bb, set_bit, make_uint64\n",
    "from wake.constants import Piece, Square"
   ]
  },
  {
   "cell_type": "markdown",
   "metadata": {},
   "source": [
    "## Promotion"
   ]
  },
  {
   "cell_type": "code",
   "execution_count": 2,
   "metadata": {},
   "outputs": [],
   "source": [
    "position = Position()"
   ]
  },
  {
   "cell_type": "code",
   "execution_count": 3,
   "metadata": {},
   "outputs": [
    {
     "name": "stdout",
     "output_type": "stream",
     "text": [
      "8  ♜ ♞ ♝ ♛ ♚ ♝ ♞ ♜\n",
      "7  ♟︎ ♟︎ ♟︎ ♟︎ ░ ♟︎ ♟︎ ♟︎\n",
      "6  ░ ░ ░ ░ ░ ░ ░ ░\n",
      "5  ░ ░ ░ ░ ░ ░ ░ ░\n",
      "4  ░ ░ ░ ░ ♙ ♟︎ ░ ░\n",
      "3  ░ ░ ░ ░ ░ ░ ░ ░\n",
      "2  ♙ ♙ ♙ ♙ ░ ░ ♙ ♙\n",
      "1  ♖ ♘ ♗ ♕ ♔ ♗ ♘ ♖\n",
      "   A B C D E F G H\n"
     ]
    }
   ],
   "source": [
    "m_1 = Move(Piece.wP, (Square.E2, Square.E4))\n",
    "m_2 = Move(Piece.bP, (Square.E7, Square.E5))\n",
    "m_3 = Move(Piece.wP, (Square.F2, Square.F4))\n",
    "m_4 = Move(Piece.bP, (Square.E5, Square.F4))\n",
    "\n",
    "position.make_move(m_1)\n",
    "position.make_move(m_2)\n",
    "position.make_move(m_3)\n",
    "position.make_move(m_4)\n",
    "\n",
    "pprint_pieces(position.piece_map)"
   ]
  },
  {
   "cell_type": "code",
   "execution_count": 4,
   "metadata": {},
   "outputs": [
    {
     "name": "stdout",
     "output_type": "stream",
     "text": [
      "Choose promotion piece.q\n"
     ]
    },
    {
     "data": {
      "text/plain": [
       "'-- TODO: generate FEN --'"
      ]
     },
     "execution_count": 4,
     "metadata": {},
     "output_type": "execute_result"
    }
   ],
   "source": [
    "m_5 = Move(Piece.wP, (Square.E4, Square.E5))\n",
    "position.make_move(m_5)\n",
    "m_6 = Move(Piece.bP, (Square.F7, Square.F5))\n",
    "position.make_move(m_6)\n",
    "m_7 = Move(Piece.wP, (Square.E5, Square.E6))\n",
    "position.make_move(m_7)\n",
    "m_8 = Move(Piece.bP, (Square.A7, Square.A5))\n",
    "position.make_move(m_8)\n",
    "m_9 = Move(Piece.wP, (Square.E6, Square.E7))\n",
    "position.make_move(m_9)\n",
    "m_10 = Move(Piece.bP, (Square.A5, Square.A4))\n",
    "position.make_move(m_10)\n",
    "m_11 = Move(Piece.wP, (Square.E7, Square.F8))\n",
    "position.make_move(m_11)"
   ]
  },
  {
   "cell_type": "code",
   "execution_count": 5,
   "metadata": {},
   "outputs": [
    {
     "name": "stdout",
     "output_type": "stream",
     "text": [
      "8  ♜ ♞ ♝ ♛ ♚ ♕ ♞ ♜\n",
      "7  ░ ♟︎ ♟︎ ♟︎ ░ ░ ♟︎ ♟︎\n",
      "6  ░ ░ ░ ░ ░ ░ ░ ░\n",
      "5  ░ ░ ░ ░ ░ ♟︎ ░ ░\n",
      "4  ♟︎ ░ ░ ░ ░ ♟︎ ░ ░\n",
      "3  ░ ░ ░ ░ ░ ░ ░ ░\n",
      "2  ♙ ♙ ♙ ♙ ░ ░ ♙ ♙\n",
      "1  ♖ ♘ ♗ ♕ ♔ ♗ ♘ ♖\n",
      "   A B C D E F G H\n"
     ]
    }
   ],
   "source": [
    "pprint_pieces(position.piece_map)"
   ]
  },
  {
   "cell_type": "code",
   "execution_count": 6,
   "metadata": {},
   "outputs": [
    {
     "name": "stdout",
     "output_type": "stream",
     "text": [
      "8  ░ ░ ░ ░ ▓ ░ ▓ ░\n",
      "7  ░ ░ ░ ░ ▓ ▓ ▓ ░\n",
      "6  ░ ░ ░ ▓ ░ ▓ ░ ░\n",
      "5  ░ ░ ▓ ░ ░ ▓ ░ ▓\n",
      "4  ░ ▓ ░ ░ ░ ░ ▓ ░\n",
      "3  ▓ ░ ░ ░ ░ ▓ ░ ░\n",
      "2  ░ ░ ░ ░ ▓ ░ ░ ░\n",
      "1  ░ ░ ░ ░ ░ ░ ░ ░\n",
      "   A B C D E F G H\n"
     ]
    }
   ],
   "source": [
    "pprint_bb(position.white_queen_attacks)"
   ]
  },
  {
   "cell_type": "markdown",
   "metadata": {},
   "source": [
    "## En Passant"
   ]
  },
  {
   "cell_type": "code",
   "execution_count": 7,
   "metadata": {},
   "outputs": [
    {
     "name": "stdout",
     "output_type": "stream",
     "text": [
      "8  ♜ ♞ ♝ ♛ ♚ ♝ ♞ ♜\n",
      "7  ♟︎ ♟︎ ♟︎ ♟︎ ░ ♟︎ ♟︎ ♟︎\n",
      "6  ░ ░ ░ ░ ░ ░ ░ ░\n",
      "5  ░ ░ ░ ░ ░ ░ ░ ░\n",
      "4  ░ ░ ░ ░ ♙ ♟︎ ░ ░\n",
      "3  ░ ░ ░ ░ ░ ░ ░ ░\n",
      "2  ♙ ♙ ♙ ♙ ░ ░ ♙ ♙\n",
      "1  ♖ ♘ ♗ ♕ ♔ ♗ ♘ ♖\n",
      "   A B C D E F G H\n"
     ]
    }
   ],
   "source": [
    "position = Position()\n",
    "\n",
    "m_1 = Move(Piece.wP, (Square.E2, Square.E4))\n",
    "m_2 = Move(Piece.bP, (Square.E7, Square.E5))\n",
    "m_3 = Move(Piece.wP, (Square.F2, Square.F4))\n",
    "m_4 = Move(Piece.bP, (Square.E5, Square.F4))\n",
    "\n",
    "position.make_move(m_1)\n",
    "position.make_move(m_2)\n",
    "position.make_move(m_3)\n",
    "position.make_move(m_4)\n",
    "\n",
    "pprint_pieces(position.piece_map)"
   ]
  },
  {
   "cell_type": "code",
   "execution_count": 8,
   "metadata": {},
   "outputs": [
    {
     "name": "stdout",
     "output_type": "stream",
     "text": [
      "8  ♜ ♞ ♝ ♛ ♚ ♝ ♞ ♜\n",
      "7  ♟︎ ♟︎ ♟︎ ♟︎ ░ ░ ♟︎ ♟︎\n",
      "6  ░ ░ ░ ░ ░ ░ ░ ░\n",
      "5  ░ ░ ░ ░ ♙ ♟︎ ░ ░\n",
      "4  ░ ░ ░ ░ ░ ♟︎ ░ ░\n",
      "3  ░ ░ ░ ░ ░ ░ ░ ░\n",
      "2  ♙ ♙ ♙ ♙ ░ ░ ♙ ♙\n",
      "1  ♖ ♘ ♗ ♕ ♔ ♗ ♘ ♖\n",
      "   A B C D E F G H\n"
     ]
    }
   ],
   "source": [
    "m_5 = Move(Piece.wP, (Square.E4, Square.E5))\n",
    "m_6 = Move(Piece.bP, (Square.F7, Square.F5))\n",
    "m_7 = Move(Piece.wP, (Square.E5, Square.F6))\n",
    "\n",
    "position.make_move(m_5)\n",
    "position.make_move(m_6)\n",
    "pprint_pieces(position.piece_map)"
   ]
  },
  {
   "cell_type": "code",
   "execution_count": 9,
   "metadata": {},
   "outputs": [
    {
     "name": "stdout",
     "output_type": "stream",
     "text": [
      "8  ♜ ♞ ♝ ♛ ♚ ♝ ♞ ♜\n",
      "7  ♟︎ ♟︎ ♟︎ ♟︎ ░ ░ ♟︎ ♟︎\n",
      "6  ░ ░ ░ ░ ░ ♙ ░ ░\n",
      "5  ░ ░ ░ ░ ░ ░ ░ ░\n",
      "4  ░ ░ ░ ░ ░ ♟︎ ░ ░\n",
      "3  ░ ░ ░ ░ ░ ░ ░ ░\n",
      "2  ♙ ♙ ♙ ♙ ░ ░ ♙ ♙\n",
      "1  ♖ ♘ ♗ ♕ ♔ ♗ ♘ ♖\n",
      "   A B C D E F G H\n"
     ]
    }
   ],
   "source": [
    "position.make_move(m_7)\n",
    "pprint_pieces(position.piece_map)"
   ]
  },
  {
   "cell_type": "code",
   "execution_count": null,
   "metadata": {},
   "outputs": [],
   "source": []
  },
  {
   "cell_type": "code",
   "execution_count": 10,
   "metadata": {},
   "outputs": [
    {
     "name": "stdout",
     "output_type": "stream",
     "text": [
      "8  ░ ░ ░ ░ ░ ░ ░ ░\n",
      "7  ▓ ░ ░ ░ ░ ░ ░ ░\n",
      "6  ░ ░ ░ ░ ░ ░ ░ ░\n",
      "5  ░ ░ ░ ░ ░ ░ ░ ░\n",
      "4  ░ ░ ░ ░ ░ ░ ░ ░\n",
      "3  ░ ░ ░ ░ ░ ░ ░ ░\n",
      "2  ░ ░ ░ ░ ░ ░ ░ ░\n",
      "1  ░ ░ ░ ░ ░ ░ ░ ░\n",
      "   A B C D E F G H\n"
     ]
    }
   ],
   "source": [
    "pprint_bb(set_bit(make_uint64(),48))"
   ]
  },
  {
   "cell_type": "code",
   "execution_count": 11,
   "metadata": {},
   "outputs": [
    {
     "name": "stdout",
     "output_type": "stream",
     "text": [
      "8  ▓ ▓ ▓ ▓ ▓ ▓ ▓ ▓\n",
      "7  ▓ ▓ ▓ ▓ ░ ░ ▓ ▓\n",
      "6  ░ ░ ░ ░ ░ ▓ ░ ░\n",
      "5  ░ ░ ░ ░ ░ ░ ░ ░\n",
      "4  ░ ░ ░ ░ ░ ▓ ░ ░\n",
      "3  ░ ░ ░ ░ ░ ░ ░ ░\n",
      "2  ▓ ▓ ▓ ▓ ░ ░ ▓ ▓\n",
      "1  ▓ ▓ ▓ ▓ ▓ ▓ ▓ ▓\n",
      "   A B C D E F G H\n",
      "8  ♜ ♞ ♝ ♛ ♚ ♝ ♞ ♜\n",
      "7  ♟︎ ♟︎ ♟︎ ♟︎ ░ ░ ♟︎ ♟︎\n",
      "6  ░ ░ ░ ░ ░ ♙ ░ ░\n",
      "5  ░ ░ ░ ░ ░ ░ ░ ░\n",
      "4  ░ ░ ░ ░ ░ ♟︎ ░ ░\n",
      "3  ░ ░ ░ ░ ░ ░ ░ ░\n",
      "2  ♙ ♙ ♙ ♙ ░ ░ ♙ ♙\n",
      "1  ♖ ♘ ♗ ♕ ♔ ♗ ♘ ♖\n",
      "   A B C D E F G H\n"
     ]
    }
   ],
   "source": [
    "pprint_bb(position.board.occupied_squares_bb)\n",
    "pprint_pieces(position.piece_map)"
   ]
  },
  {
   "cell_type": "code",
   "execution_count": 12,
   "metadata": {},
   "outputs": [
    {
     "data": {
      "text/plain": [
       "'-- TODO: generate FEN --'"
      ]
     },
     "execution_count": 12,
     "metadata": {},
     "output_type": "execute_result"
    }
   ],
   "source": [
    "m_8 = Move(Piece.bP, (Square.A7, Square.A6))\n",
    "position.make_move(m_8)"
   ]
  },
  {
   "cell_type": "code",
   "execution_count": 13,
   "metadata": {},
   "outputs": [
    {
     "name": "stdout",
     "output_type": "stream",
     "text": [
      "8  ♜ ♞ ♝ ♛ ♚ ♝ ♞ ♜\n",
      "7  ░ ♟︎ ♟︎ ♟︎ ░ ░ ♟︎ ♟︎\n",
      "6  ♟︎ ░ ░ ░ ░ ♙ ░ ░\n",
      "5  ░ ░ ░ ░ ░ ░ ░ ░\n",
      "4  ░ ░ ░ ░ ░ ♟︎ ░ ░\n",
      "3  ░ ░ ░ ░ ░ ░ ░ ░\n",
      "2  ♙ ♙ ♙ ♙ ░ ░ ♙ ♙\n",
      "1  ♖ ♘ ♗ ♕ ♔ ♗ ♘ ♖\n",
      "   A B C D E F G H\n"
     ]
    }
   ],
   "source": [
    "pprint_pieces(position.piece_map)"
   ]
  },
  {
   "cell_type": "markdown",
   "metadata": {},
   "source": [
    "## FEN"
   ]
  },
  {
   "cell_type": "code",
   "execution_count": 56,
   "metadata": {},
   "outputs": [],
   "source": [
    "def make_fen_from_position(pos: Position) -> str:\n",
    "    board = position.board\n",
    "    \n",
    "    black_pawn_bin = np.binary_repr(position.board.black_P_bb, 64)\n",
    "    black_rook_bin = np.binary_repr(position.board.black_R_bb, 64)\n",
    "    black_knight_bin = np.binary_repr(position.board.black_N_bb, 64)\n",
    "    black_bishop_bin = np.binary_repr(position.board.black_B_bb, 64)\n",
    "    black_queen_bin = np.binary_repr(position.board.black_Q_bb, 64)\n",
    "    black_king_bin = np.binary_repr(position.board.black_K_bb, 64)\n",
    "    white_pawn_bin = np.binary_repr(position.board.white_P_bb, 64)\n",
    "    white_rook_bin = np.binary_repr(position.board.white_R_bb, 64)\n",
    "    white_knight_bin = np.binary_repr(position.board.white_N_bb, 64)\n",
    "    white_bishop_bin = np.binary_repr(position.board.white_B_bb, 64)\n",
    "    white_queen_bin = np.binary_repr(position.board.white_Q_bb, 64)\n",
    "    white_king_bin = np.binary_repr(position.board.white_K_bb, 64)\n",
    "        \n",
    "    black_pawn_squares = [i for i in range(len(black_pawn_bin)) if int(black_pawn_bin[i])]\n",
    "    black_rook_squares = [i for i in range(len(black_rook_bin)) if int(black_rook_bin[i])]\n",
    "    black_knight_squares = [i for i in range(len(black_knight_bin)) if int(black_knight_bin[i])]\n",
    "    black_bishop_squares = [i for i in range(len(black_bishop_bin)) if int(black_bishop_bin[i])]\n",
    "    black_queen_squares = [i for i in range(len(black_queen_bin)) if int(black_queen_bin[i])]\n",
    "    black_king_square = [i for i in range(len(black_king_bin)) if int(black_king_bin[i])]\n",
    "    white_pawn_squares = [i for i in range(len(white_pawn_bin)) if int(white_pawn_bin[i])]\n",
    "    white_rook_squares = [i for i in range(len(white_rook_bin)) if int(white_rook_bin[i])]\n",
    "    white_knight_squares = [i for i in range(len(white_knight_bin)) if int(white_knight_bin[i])]\n",
    "    white_bishop_squares = [i for i in range(len(white_bishop_bin)) if int(white_bishop_bin[i])]\n",
    "    white_queen_squares = [i for i in range(len(white_queen_bin)) if int(white_queen_bin[i])]\n",
    "    white_king_square = [i for i in range(len(white_king_bin)) if int(white_king_bin[i])]\n",
    "    \n",
    "    fen_dict = { i: None for i in range(64) }\n",
    "\n",
    "    for s in black_pawn_squares:\n",
    "        fen_dict[s] = 'p'\n",
    "    for s in black_rook_squares:\n",
    "        fen_dict[s] = 'r'\n",
    "    for s in black_knight_squares:\n",
    "        fen_dict[s] = 'n'\n",
    "    for s in black_bishop_squares:\n",
    "        fen_dict[s] = 'b'\n",
    "    for s in black_queen_squares:\n",
    "        fen_dict[s] = 'q'\n",
    "    for s in black_king_square:\n",
    "        fen_dict[s] = 'k'\n",
    "    for s in white_pawn_squares:\n",
    "        fen_dict[s] = 'P'\n",
    "    for s in white_rook_squares:\n",
    "        fen_dict[s] = 'R'\n",
    "    for s in white_knight_squares:\n",
    "        fen_dict[s] = 'N'\n",
    "    for s in white_bishop_squares:\n",
    "        fen_dict[s] = 'B'\n",
    "    for s in white_queen_squares:\n",
    "        fen_dict[s] = 'Q'\n",
    "    for s in white_king_square:\n",
    "        fen_dict[s] = 'K'\n",
    "    \n",
    "    fen = ''\n",
    "    empty = 0\n",
    "    \n",
    "    for k, v in fen_dict.items():\n",
    "        if not k % 8 and not k == 0:\n",
    "            if empty:\n",
    "                fen += str(empty)\n",
    "                empty = 0\n",
    "            fen += '/'\n",
    "        if not v:\n",
    "            empty += 1\n",
    "            continue\n",
    "        if (empty):\n",
    "            fen += str(empty)\n",
    "        fen += v\n",
    "    return fen"
   ]
  },
  {
   "cell_type": "code",
   "execution_count": 57,
   "metadata": {},
   "outputs": [
    {
     "data": {
      "text/plain": [
       "'rnbkqbnr/pppppppp/8/8/8/8/PPPPPPPP/R1B1K1Q1B2R'"
      ]
     },
     "execution_count": 57,
     "metadata": {},
     "output_type": "execute_result"
    }
   ],
   "source": [
    "position = Position()\n",
    "make_fen_from_position(position)"
   ]
  },
  {
   "cell_type": "code",
   "execution_count": 18,
   "metadata": {},
   "outputs": [
    {
     "data": {
      "text/plain": [
       "57984945250893824"
      ]
     },
     "execution_count": 18,
     "metadata": {},
     "output_type": "execute_result"
    }
   ],
   "source": [
    "position.board.black_P_bb"
   ]
  },
  {
   "cell_type": "code",
   "execution_count": 22,
   "metadata": {},
   "outputs": [
    {
     "data": {
      "text/plain": [
       "'0000000011001110000000010000000000100000000000000000000000000000'"
      ]
     },
     "execution_count": 22,
     "metadata": {},
     "output_type": "execute_result"
    }
   ],
   "source": [
    "import numpy as np\n",
    "\n",
    "np.binary_repr(position.board.black_P_bb, 64)"
   ]
  },
  {
   "cell_type": "code",
   "execution_count": null,
   "metadata": {},
   "outputs": [],
   "source": []
  }
 ],
 "metadata": {
  "kernelspec": {
   "display_name": "Python 3",
   "language": "python",
   "name": "python3"
  },
  "language_info": {
   "codemirror_mode": {
    "name": "ipython",
    "version": 3
   },
   "file_extension": ".py",
   "mimetype": "text/x-python",
   "name": "python",
   "nbconvert_exporter": "python",
   "pygments_lexer": "ipython3",
   "version": "3.8.5"
  }
 },
 "nbformat": 4,
 "nbformat_minor": 4
}
