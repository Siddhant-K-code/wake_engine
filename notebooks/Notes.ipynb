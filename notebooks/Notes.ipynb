{
 "cells": [
  {
   "cell_type": "code",
   "execution_count": 1,
   "metadata": {},
   "outputs": [],
   "source": [
    "from wake.game import Game\n",
    "from wake.move import Move\n",
    "from wake.position import Position\n",
    "from wake.bitboard_helpers import pprint_pieces, pprint_bb, set_bit, make_uint64\n",
    "from wake.constants import Piece, Square"
   ]
  },
  {
   "cell_type": "markdown",
   "metadata": {},
   "source": [
    "## Promotion"
   ]
  },
  {
   "cell_type": "code",
   "execution_count": 2,
   "metadata": {},
   "outputs": [],
   "source": [
    "position = Position()"
   ]
  },
  {
   "cell_type": "code",
   "execution_count": 3,
   "metadata": {},
   "outputs": [
    {
     "name": "stdout",
     "output_type": "stream",
     "text": [
      "8  ♜ ♞ ♝ ♛ ♚ ♝ ♞ ♜\n",
      "7  ♟︎ ♟︎ ♟︎ ♟︎ ░ ♟︎ ♟︎ ♟︎\n",
      "6  ░ ░ ░ ░ ░ ░ ░ ░\n",
      "5  ░ ░ ░ ░ ░ ░ ░ ░\n",
      "4  ░ ░ ░ ░ ♙ ♟︎ ░ ░\n",
      "3  ░ ░ ░ ░ ░ ░ ░ ░\n",
      "2  ♙ ♙ ♙ ♙ ░ ░ ♙ ♙\n",
      "1  ♖ ♘ ♗ ♕ ♔ ♗ ♘ ♖\n",
      "   A B C D E F G H\n"
     ]
    }
   ],
   "source": [
    "m_1 = Move(Piece.wP, (Square.E2, Square.E4))\n",
    "m_2 = Move(Piece.bP, (Square.E7, Square.E5))\n",
    "m_3 = Move(Piece.wP, (Square.F2, Square.F4))\n",
    "m_4 = Move(Piece.bP, (Square.E5, Square.F4))\n",
    "\n",
    "position.make_move(m_1)\n",
    "position.make_move(m_2)\n",
    "position.make_move(m_3)\n",
    "position.make_move(m_4)\n",
    "\n",
    "pprint_pieces(position.piece_map)"
   ]
  },
  {
   "cell_type": "code",
   "execution_count": 4,
   "metadata": {},
   "outputs": [
    {
     "name": "stdout",
     "output_type": "stream",
     "text": [
      "Choose promotion piece.q\n"
     ]
    },
    {
     "data": {
      "text/plain": [
       "'-- TODO: generate FEN --'"
      ]
     },
     "execution_count": 4,
     "metadata": {},
     "output_type": "execute_result"
    }
   ],
   "source": [
    "m_5 = Move(Piece.wP, (Square.E4, Square.E5))\n",
    "position.make_move(m_5)\n",
    "m_6 = Move(Piece.bP, (Square.F7, Square.F5))\n",
    "position.make_move(m_6)\n",
    "m_7 = Move(Piece.wP, (Square.E5, Square.E6))\n",
    "position.make_move(m_7)\n",
    "m_8 = Move(Piece.bP, (Square.A7, Square.A5))\n",
    "position.make_move(m_8)\n",
    "m_9 = Move(Piece.wP, (Square.E6, Square.E7))\n",
    "position.make_move(m_9)\n",
    "m_10 = Move(Piece.bP, (Square.A5, Square.A4))\n",
    "position.make_move(m_10)\n",
    "m_11 = Move(Piece.wP, (Square.E7, Square.F8))\n",
    "position.make_move(m_11)"
   ]
  },
  {
   "cell_type": "code",
   "execution_count": 5,
   "metadata": {},
   "outputs": [
    {
     "name": "stdout",
     "output_type": "stream",
     "text": [
      "8  ♜ ♞ ♝ ♛ ♚ ♕ ♞ ♜\n",
      "7  ░ ♟︎ ♟︎ ♟︎ ░ ░ ♟︎ ♟︎\n",
      "6  ░ ░ ░ ░ ░ ░ ░ ░\n",
      "5  ░ ░ ░ ░ ░ ♟︎ ░ ░\n",
      "4  ♟︎ ░ ░ ░ ░ ♟︎ ░ ░\n",
      "3  ░ ░ ░ ░ ░ ░ ░ ░\n",
      "2  ♙ ♙ ♙ ♙ ░ ░ ♙ ♙\n",
      "1  ♖ ♘ ♗ ♕ ♔ ♗ ♘ ♖\n",
      "   A B C D E F G H\n"
     ]
    }
   ],
   "source": [
    "pprint_pieces(position.piece_map)"
   ]
  },
  {
   "cell_type": "code",
   "execution_count": 6,
   "metadata": {},
   "outputs": [
    {
     "name": "stdout",
     "output_type": "stream",
     "text": [
      "8  ░ ░ ░ ░ ▓ ░ ▓ ░\n",
      "7  ░ ░ ░ ░ ▓ ▓ ▓ ░\n",
      "6  ░ ░ ░ ▓ ░ ▓ ░ ░\n",
      "5  ░ ░ ▓ ░ ░ ▓ ░ ▓\n",
      "4  ░ ▓ ░ ░ ░ ░ ▓ ░\n",
      "3  ▓ ░ ░ ░ ░ ▓ ░ ░\n",
      "2  ░ ░ ░ ░ ▓ ░ ░ ░\n",
      "1  ░ ░ ░ ░ ░ ░ ░ ░\n",
      "   A B C D E F G H\n"
     ]
    }
   ],
   "source": [
    "pprint_bb(position.white_queen_attacks)"
   ]
  },
  {
   "cell_type": "markdown",
   "metadata": {},
   "source": [
    "## En Passant"
   ]
  },
  {
   "cell_type": "code",
   "execution_count": 7,
   "metadata": {},
   "outputs": [
    {
     "name": "stdout",
     "output_type": "stream",
     "text": [
      "8  ♜ ♞ ♝ ♛ ♚ ♝ ♞ ♜\n",
      "7  ♟︎ ♟︎ ♟︎ ♟︎ ░ ♟︎ ♟︎ ♟︎\n",
      "6  ░ ░ ░ ░ ░ ░ ░ ░\n",
      "5  ░ ░ ░ ░ ░ ░ ░ ░\n",
      "4  ░ ░ ░ ░ ♙ ♟︎ ░ ░\n",
      "3  ░ ░ ░ ░ ░ ░ ░ ░\n",
      "2  ♙ ♙ ♙ ♙ ░ ░ ♙ ♙\n",
      "1  ♖ ♘ ♗ ♕ ♔ ♗ ♘ ♖\n",
      "   A B C D E F G H\n"
     ]
    }
   ],
   "source": [
    "position = Position()\n",
    "\n",
    "m_1 = Move(Piece.wP, (Square.E2, Square.E4))\n",
    "m_2 = Move(Piece.bP, (Square.E7, Square.E5))\n",
    "m_3 = Move(Piece.wP, (Square.F2, Square.F4))\n",
    "m_4 = Move(Piece.bP, (Square.E5, Square.F4))\n",
    "\n",
    "position.make_move(m_1)\n",
    "position.make_move(m_2)\n",
    "position.make_move(m_3)\n",
    "position.make_move(m_4)\n",
    "\n",
    "pprint_pieces(position.piece_map)"
   ]
  },
  {
   "cell_type": "code",
   "execution_count": 8,
   "metadata": {},
   "outputs": [
    {
     "name": "stdout",
     "output_type": "stream",
     "text": [
      "8  ♜ ♞ ♝ ♛ ♚ ♝ ♞ ♜\n",
      "7  ♟︎ ♟︎ ♟︎ ♟︎ ░ ░ ♟︎ ♟︎\n",
      "6  ░ ░ ░ ░ ░ ░ ░ ░\n",
      "5  ░ ░ ░ ░ ♙ ♟︎ ░ ░\n",
      "4  ░ ░ ░ ░ ░ ♟︎ ░ ░\n",
      "3  ░ ░ ░ ░ ░ ░ ░ ░\n",
      "2  ♙ ♙ ♙ ♙ ░ ░ ♙ ♙\n",
      "1  ♖ ♘ ♗ ♕ ♔ ♗ ♘ ♖\n",
      "   A B C D E F G H\n"
     ]
    }
   ],
   "source": [
    "m_5 = Move(Piece.wP, (Square.E4, Square.E5))\n",
    "m_6 = Move(Piece.bP, (Square.F7, Square.F5))\n",
    "m_7 = Move(Piece.wP, (Square.E5, Square.F6))\n",
    "\n",
    "position.make_move(m_5)\n",
    "position.make_move(m_6)\n",
    "pprint_pieces(position.piece_map)"
   ]
  },
  {
   "cell_type": "code",
   "execution_count": 9,
   "metadata": {},
   "outputs": [
    {
     "name": "stdout",
     "output_type": "stream",
     "text": [
      "Illegal move\n",
      "8  ♜ ♞ ♝ ♛ ♚ ♝ ♞ ♜\n",
      "7  ♟︎ ♟︎ ♟︎ ♟︎ ░ ░ ♟︎ ♟︎\n",
      "6  ░ ░ ░ ░ ░ ░ ░ ░\n",
      "5  ░ ░ ░ ░ ♙ ♟︎ ░ ░\n",
      "4  ░ ░ ░ ░ ░ ♟︎ ░ ░\n",
      "3  ░ ░ ░ ░ ░ ░ ░ ░\n",
      "2  ♙ ♙ ♙ ♙ ░ ░ ♙ ♙\n",
      "1  ♖ ♘ ♗ ♕ ♔ ♗ ♘ ♖\n",
      "   A B C D E F G H\n"
     ]
    }
   ],
   "source": [
    "position.make_move(m_7)\n",
    "pprint_pieces(position.piece_map)"
   ]
  },
  {
   "cell_type": "code",
   "execution_count": 10,
   "metadata": {},
   "outputs": [
    {
     "ename": "TypeError",
     "evalue": "int() argument must be a string, a bytes-like object or a number, not 'NoneType'",
     "output_type": "error",
     "traceback": [
      "\u001b[0;31m---------------------------------------------------------------------------\u001b[0m",
      "\u001b[0;31mTypeError\u001b[0m                                 Traceback (most recent call last)",
      "\u001b[0;32m<ipython-input-10-2b7f195b2fff>\u001b[0m in \u001b[0;36m<module>\u001b[0;34m\u001b[0m\n\u001b[1;32m      1\u001b[0m \u001b[0;32mimport\u001b[0m \u001b[0mnumpy\u001b[0m \u001b[0;32mas\u001b[0m \u001b[0mnp\u001b[0m\u001b[0;34m\u001b[0m\u001b[0;34m\u001b[0m\u001b[0m\n\u001b[0;32m----> 2\u001b[0;31m \u001b[0mep_bb\u001b[0m \u001b[0;34m=\u001b[0m \u001b[0mset_bit\u001b[0m\u001b[0;34m(\u001b[0m\u001b[0mmake_uint64\u001b[0m\u001b[0;34m(\u001b[0m\u001b[0;34m)\u001b[0m\u001b[0;34m,\u001b[0m \u001b[0mnp\u001b[0m\u001b[0;34m.\u001b[0m\u001b[0muint64\u001b[0m\u001b[0;34m(\u001b[0m\u001b[0mposition\u001b[0m\u001b[0;34m.\u001b[0m\u001b[0men_passant_target\u001b[0m\u001b[0;34m)\u001b[0m\u001b[0;34m)\u001b[0m\u001b[0;34m\u001b[0m\u001b[0;34m\u001b[0m\u001b[0m\n\u001b[0m\u001b[1;32m      3\u001b[0m \u001b[0mpprint_bb\u001b[0m\u001b[0;34m(\u001b[0m\u001b[0mep_bb\u001b[0m\u001b[0;34m)\u001b[0m\u001b[0;34m\u001b[0m\u001b[0;34m\u001b[0m\u001b[0m\n",
      "\u001b[0;31mTypeError\u001b[0m: int() argument must be a string, a bytes-like object or a number, not 'NoneType'"
     ]
    }
   ],
   "source": [
    "import numpy as np\n",
    "ep_bb = set_bit(make_uint64(), np.uint64(position.en_passant_target))\n",
    "pprint_bb(ep_bb)"
   ]
  },
  {
   "cell_type": "code",
   "execution_count": null,
   "metadata": {},
   "outputs": [],
   "source": [
    "position.en_passant_target"
   ]
  },
  {
   "cell_type": "code",
   "execution_count": null,
   "metadata": {},
   "outputs": [],
   "source": []
  }
 ],
 "metadata": {
  "kernelspec": {
   "display_name": "Python 3",
   "language": "python",
   "name": "python3"
  },
  "language_info": {
   "codemirror_mode": {
    "name": "ipython",
    "version": 3
   },
   "file_extension": ".py",
   "mimetype": "text/x-python",
   "name": "python",
   "nbconvert_exporter": "python",
   "pygments_lexer": "ipython3",
   "version": "3.8.5"
  }
 },
 "nbformat": 4,
 "nbformat_minor": 4
}
