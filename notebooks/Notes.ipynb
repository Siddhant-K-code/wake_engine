{
 "cells": [
  {
   "cell_type": "code",
   "execution_count": 14,
   "metadata": {},
   "outputs": [],
   "source": [
    "from wake.game import Game\n",
    "from wake.move import Move\n",
    "from wake.position import Position\n",
    "from wake.bitboard_helpers import pprint_pieces, pprint_bb, set_bit, make_uint64\n",
    "from wake.constants import Piece, Square, Color, square_map\n",
    "\n",
    "import numpy as np"
   ]
  },
  {
   "cell_type": "code",
   "execution_count": 17,
   "metadata": {},
   "outputs": [
    {
     "data": {
      "text/plain": [
       "{'board': <wake.board.Board at 0x1193e8250>,\n",
       " 'color_to_move': 0,\n",
       " 'castle_rights': {0: [1, 1], 1: [1, 1]},\n",
       " 'en_passant_target': None,\n",
       " 'is_en_passant_capture': False,\n",
       " 'halfmove_clock': 0,\n",
       " 'halfmove': 2,\n",
       " 'king_in_check': [0, 0],\n",
       " 'piece_map': {1: {8, 9, 10, 11, 12, 13, 14, 15},\n",
       "  2: {0, 7},\n",
       "  3: {1, 6},\n",
       "  4: {2, 5},\n",
       "  5: {3},\n",
       "  6: {4},\n",
       "  7: {48, 49, 50, 51, 52, 53, 54, 55},\n",
       "  8: {56, 63},\n",
       "  9: {57, 62},\n",
       "  10: {58, 61},\n",
       "  11: {59},\n",
       "  12: {60}},\n",
       " 'white_pawn_moves': 0,\n",
       " 'white_pawn_attacks': 0,\n",
       " 'white_rook_attacks': 0,\n",
       " 'white_knight_attacks': 0,\n",
       " 'white_bishop_attacks': 0,\n",
       " 'white_queen_attacks': 0,\n",
       " 'white_king_attacks': 0,\n",
       " 'black_pawn_moves': 0,\n",
       " 'black_pawn_attacks': 0,\n",
       " 'black_rook_attacks': 0,\n",
       " 'black_knight_attacks': 0,\n",
       " 'black_bishop_attacks': 0,\n",
       " 'black_queen_attacks': 0,\n",
       " 'black_king_attacks': 0}"
      ]
     },
     "execution_count": 17,
     "metadata": {},
     "output_type": "execute_result"
    }
   ],
   "source": [
    "position = Position()\n",
    "position.__dict__"
   ]
  },
  {
   "cell_type": "markdown",
   "metadata": {},
   "source": [
    "## Promotion"
   ]
  },
  {
   "cell_type": "code",
   "execution_count": 2,
   "metadata": {},
   "outputs": [],
   "source": [
    "position = Position()"
   ]
  },
  {
   "cell_type": "code",
   "execution_count": 3,
   "metadata": {},
   "outputs": [
    {
     "name": "stdout",
     "output_type": "stream",
     "text": [
      "Illegal move\n",
      "Illegal move\n",
      "Illegal move\n",
      "Illegal move\n",
      "8  ♜ ♞ ♝ ♛ ♚ ♝ ♞ ♜\n",
      "7  ♟︎ ♟︎ ♟︎ ♟︎ ░ ♟︎ ♟︎ ♟︎\n",
      "6  ░ ░ ░ ░ ░ ░ ░ ░\n",
      "5  ░ ░ ░ ░ ░ ░ ░ ░\n",
      "4  ░ ░ ░ ░ ♙ ♟︎ ░ ░\n",
      "3  ░ ░ ░ ░ ░ ░ ░ ░\n",
      "2  ♙ ♙ ♙ ♙ ░ ░ ♙ ♙\n",
      "1  ♖ ♘ ♗ ♕ ♔ ♗ ♘ ♖\n",
      "   A B C D E F G H\n"
     ]
    }
   ],
   "source": [
    "m_1 = Move(Piece.wP, (Square.E2, Square.E4))\n",
    "m_2 = Move(Piece.bP, (Square.E7, Square.E5))\n",
    "m_3 = Move(Piece.wP, (Square.F2, Square.F4))\n",
    "m_4 = Move(Piece.bP, (Square.E5, Square.F4))\n",
    "\n",
    "position.make_move(m_1)\n",
    "position.make_move(m_2)\n",
    "position.make_move(m_3)\n",
    "position.make_move(m_4)\n",
    "\n",
    "pprint_pieces(position.piece_map)"
   ]
  },
  {
   "cell_type": "code",
   "execution_count": 4,
   "metadata": {},
   "outputs": [
    {
     "name": "stdout",
     "output_type": "stream",
     "text": [
      "Illegal move\n",
      "Illegal move\n",
      "Illegal move\n",
      "Illegal move\n",
      "Illegal move\n",
      "Illegal move\n"
     ]
    },
    {
     "ename": "KeyError",
     "evalue": "61",
     "output_type": "error",
     "traceback": [
      "\u001b[0;31m---------------------------------------------------------------------------\u001b[0m",
      "\u001b[0;31mKeyError\u001b[0m                                  Traceback (most recent call last)",
      "\u001b[0;32m<ipython-input-4-3bdc117b6cf4>\u001b[0m in \u001b[0;36m<module>\u001b[0;34m\u001b[0m\n\u001b[1;32m     12\u001b[0m \u001b[0mposition\u001b[0m\u001b[0;34m.\u001b[0m\u001b[0mmake_move\u001b[0m\u001b[0;34m(\u001b[0m\u001b[0mm_10\u001b[0m\u001b[0;34m)\u001b[0m\u001b[0;34m\u001b[0m\u001b[0;34m\u001b[0m\u001b[0m\n\u001b[1;32m     13\u001b[0m \u001b[0mm_11\u001b[0m \u001b[0;34m=\u001b[0m \u001b[0mMove\u001b[0m\u001b[0;34m(\u001b[0m\u001b[0mPiece\u001b[0m\u001b[0;34m.\u001b[0m\u001b[0mwP\u001b[0m\u001b[0;34m,\u001b[0m \u001b[0;34m(\u001b[0m\u001b[0mSquare\u001b[0m\u001b[0;34m.\u001b[0m\u001b[0mE7\u001b[0m\u001b[0;34m,\u001b[0m \u001b[0mSquare\u001b[0m\u001b[0;34m.\u001b[0m\u001b[0mF8\u001b[0m\u001b[0;34m)\u001b[0m\u001b[0;34m)\u001b[0m\u001b[0;34m\u001b[0m\u001b[0;34m\u001b[0m\u001b[0m\n\u001b[0;32m---> 14\u001b[0;31m \u001b[0mposition\u001b[0m\u001b[0;34m.\u001b[0m\u001b[0mmake_move\u001b[0m\u001b[0;34m(\u001b[0m\u001b[0mm_11\u001b[0m\u001b[0;34m)\u001b[0m\u001b[0;34m\u001b[0m\u001b[0;34m\u001b[0m\u001b[0m\n\u001b[0m",
      "\u001b[0;32m~/projects/wake/wake/position.py\u001b[0m in \u001b[0;36mmake_move\u001b[0;34m(self, move)\u001b[0m\n\u001b[1;32m    167\u001b[0m \u001b[0;34m\u001b[0m\u001b[0m\n\u001b[1;32m    168\u001b[0m         \u001b[0;31m# Update the possible moves\u001b[0m\u001b[0;34m\u001b[0m\u001b[0;34m\u001b[0m\u001b[0;34m\u001b[0m\u001b[0m\n\u001b[0;32m--> 169\u001b[0;31m         \u001b[0mnext_position\u001b[0m\u001b[0;34m.\u001b[0m\u001b[0mupdate_attack_bitboards\u001b[0m\u001b[0;34m(\u001b[0m\u001b[0;34m)\u001b[0m\u001b[0;34m\u001b[0m\u001b[0;34m\u001b[0m\u001b[0m\n\u001b[0m\u001b[1;32m    170\u001b[0m \u001b[0;34m\u001b[0m\u001b[0m\n\u001b[1;32m    171\u001b[0m         \u001b[0mnext_position\u001b[0m\u001b[0;34m.\u001b[0m\u001b[0mcolor_to_move\u001b[0m \u001b[0;34m=\u001b[0m \u001b[0;32mnot\u001b[0m \u001b[0mnext_position\u001b[0m\u001b[0;34m.\u001b[0m\u001b[0mcolor_to_move\u001b[0m\u001b[0;34m\u001b[0m\u001b[0;34m\u001b[0m\u001b[0m\n",
      "\u001b[0;32m~/projects/wake/wake/position.py\u001b[0m in \u001b[0;36mupdate_attack_bitboards\u001b[0;34m(self)\u001b[0m\n\u001b[1;32m    202\u001b[0m             \u001b[0;32mif\u001b[0m \u001b[0mpiece\u001b[0m \u001b[0;34m==\u001b[0m \u001b[0mPiece\u001b[0m\u001b[0;34m.\u001b[0m\u001b[0mwP\u001b[0m\u001b[0;34m:\u001b[0m\u001b[0;34m\u001b[0m\u001b[0;34m\u001b[0m\u001b[0m\n\u001b[1;32m    203\u001b[0m                 \u001b[0;32mfor\u001b[0m \u001b[0msquare\u001b[0m \u001b[0;32min\u001b[0m \u001b[0msquares\u001b[0m\u001b[0;34m:\u001b[0m\u001b[0;34m\u001b[0m\u001b[0;34m\u001b[0m\u001b[0m\n\u001b[0;32m--> 204\u001b[0;31m                     \u001b[0mself\u001b[0m\u001b[0;34m.\u001b[0m\u001b[0mupdate_legal_pawn_moves\u001b[0m\u001b[0;34m(\u001b[0m\u001b[0msquare\u001b[0m\u001b[0;34m,\u001b[0m \u001b[0mColor\u001b[0m\u001b[0;34m.\u001b[0m\u001b[0mWHITE\u001b[0m\u001b[0;34m)\u001b[0m\u001b[0;34m\u001b[0m\u001b[0;34m\u001b[0m\u001b[0m\n\u001b[0m\u001b[1;32m    205\u001b[0m             \u001b[0;32mif\u001b[0m \u001b[0mpiece\u001b[0m \u001b[0;34m==\u001b[0m \u001b[0mPiece\u001b[0m\u001b[0;34m.\u001b[0m\u001b[0mbP\u001b[0m\u001b[0;34m:\u001b[0m\u001b[0;34m\u001b[0m\u001b[0;34m\u001b[0m\u001b[0m\n\u001b[1;32m    206\u001b[0m                 \u001b[0;32mfor\u001b[0m \u001b[0msquare\u001b[0m \u001b[0;32min\u001b[0m \u001b[0msquares\u001b[0m\u001b[0;34m:\u001b[0m\u001b[0;34m\u001b[0m\u001b[0;34m\u001b[0m\u001b[0m\n",
      "\u001b[0;32m~/projects/wake/wake/position.py\u001b[0m in \u001b[0;36mupdate_legal_pawn_moves\u001b[0;34m(self, move_from_square, color_to_move)\u001b[0m\n\u001b[1;32m    741\u001b[0m \u001b[0;34m\u001b[0m\u001b[0m\n\u001b[1;32m    742\u001b[0m         legal_non_attack_moves = {\n\u001b[0;32m--> 743\u001b[0;31m             \u001b[0mColor\u001b[0m\u001b[0;34m.\u001b[0m\u001b[0mWHITE\u001b[0m\u001b[0;34m:\u001b[0m \u001b[0mself\u001b[0m\u001b[0;34m.\u001b[0m\u001b[0mboard\u001b[0m\u001b[0;34m.\u001b[0m\u001b[0mwhite_pawn_motion_bbs\u001b[0m\u001b[0;34m[\u001b[0m\u001b[0mmove_from_square\u001b[0m\u001b[0;34m]\u001b[0m\u001b[0;34m,\u001b[0m\u001b[0;34m\u001b[0m\u001b[0;34m\u001b[0m\u001b[0m\n\u001b[0m\u001b[1;32m    744\u001b[0m             \u001b[0mColor\u001b[0m\u001b[0;34m.\u001b[0m\u001b[0mBLACK\u001b[0m\u001b[0;34m:\u001b[0m \u001b[0mself\u001b[0m\u001b[0;34m.\u001b[0m\u001b[0mboard\u001b[0m\u001b[0;34m.\u001b[0m\u001b[0mblack_pawn_motion_bbs\u001b[0m\u001b[0;34m[\u001b[0m\u001b[0mmove_from_square\u001b[0m\u001b[0;34m]\u001b[0m\u001b[0;34m\u001b[0m\u001b[0;34m\u001b[0m\u001b[0m\n\u001b[1;32m    745\u001b[0m         }\n",
      "\u001b[0;31mKeyError\u001b[0m: 61"
     ]
    }
   ],
   "source": [
    "m_5 = Move(Piece.wP, (Square.E4, Square.E5))\n",
    "position.make_move(m_5)\n",
    "m_6 = Move(Piece.bP, (Square.F7, Square.F5))\n",
    "position.make_move(m_6)\n",
    "m_7 = Move(Piece.wP, (Square.E5, Square.E6))\n",
    "position.make_move(m_7)\n",
    "m_8 = Move(Piece.bP, (Square.A7, Square.A5))\n",
    "position.make_move(m_8)\n",
    "m_9 = Move(Piece.wP, (Square.E6, Square.E7))\n",
    "position.make_move(m_9)\n",
    "m_10 = Move(Piece.bP, (Square.A5, Square.A4))\n",
    "position.make_move(m_10)\n",
    "m_11 = Move(Piece.wP, (Square.E7, Square.F8))\n",
    "position.make_move(m_11)"
   ]
  },
  {
   "cell_type": "code",
   "execution_count": null,
   "metadata": {},
   "outputs": [],
   "source": [
    "pprint_pieces(position.piece_map)"
   ]
  },
  {
   "cell_type": "code",
   "execution_count": null,
   "metadata": {},
   "outputs": [],
   "source": [
    "pprint_bb(position.white_queen_attacks)"
   ]
  },
  {
   "cell_type": "markdown",
   "metadata": {},
   "source": [
    "## En Passant"
   ]
  },
  {
   "cell_type": "code",
   "execution_count": null,
   "metadata": {},
   "outputs": [],
   "source": [
    "position = Position()\n",
    "\n",
    "m_1 = Move(Piece.wP, (Square.E2, Square.E4))\n",
    "m_2 = Move(Piece.bP, (Square.E7, Square.E5))\n",
    "m_3 = Move(Piece.wP, (Square.F2, Square.F4))\n",
    "m_4 = Move(Piece.bP, (Square.E5, Square.F4))\n",
    "\n",
    "position.make_move(m_1)\n",
    "position.make_move(m_2)\n",
    "position.make_move(m_3)\n",
    "position.make_move(m_4)\n",
    "\n",
    "pprint_pieces(position.piece_map)"
   ]
  },
  {
   "cell_type": "code",
   "execution_count": null,
   "metadata": {},
   "outputs": [],
   "source": [
    "m_5 = Move(Piece.wP, (Square.E4, Square.E5))\n",
    "m_6 = Move(Piece.bP, (Square.F7, Square.F5))\n",
    "m_7 = Move(Piece.wP, (Square.E5, Square.F6))\n",
    "\n",
    "position.make_move(m_5)\n",
    "position.make_move(m_6)\n",
    "pprint_pieces(position.piece_map)"
   ]
  },
  {
   "cell_type": "code",
   "execution_count": null,
   "metadata": {},
   "outputs": [],
   "source": [
    "position.make_move(m_7)\n",
    "pprint_pieces(position.piece_map)"
   ]
  },
  {
   "cell_type": "code",
   "execution_count": null,
   "metadata": {},
   "outputs": [],
   "source": []
  },
  {
   "cell_type": "code",
   "execution_count": null,
   "metadata": {},
   "outputs": [],
   "source": [
    "pprint_bb(set_bit(make_uint64(),48))"
   ]
  },
  {
   "cell_type": "code",
   "execution_count": null,
   "metadata": {},
   "outputs": [],
   "source": [
    "pprint_bb(position.board.occupied_squares_bb)\n",
    "pprint_pieces(position.piece_map)"
   ]
  },
  {
   "cell_type": "code",
   "execution_count": null,
   "metadata": {},
   "outputs": [],
   "source": [
    "m_8 = Move(Piece.bP, (Square.A7, Square.A6))\n",
    "position.make_move(m_8)"
   ]
  },
  {
   "cell_type": "code",
   "execution_count": null,
   "metadata": {},
   "outputs": [],
   "source": [
    "pprint_pieces(position.piece_map)"
   ]
  },
  {
   "cell_type": "code",
   "execution_count": null,
   "metadata": {},
   "outputs": [],
   "source": []
  },
  {
   "cell_type": "code",
   "execution_count": 25,
   "metadata": {},
   "outputs": [
    {
     "data": {
      "text/plain": [
       "{'board': <wake.board.Board at 0x1193e8250>,\n",
       " 'color_to_move': 0,\n",
       " 'castle_rights': {0: [1, 1], 1: [1, 1]},\n",
       " 'en_passant_target': None,\n",
       " 'is_en_passant_capture': False,\n",
       " 'halfmove_clock': 0,\n",
       " 'halfmove': 2,\n",
       " 'king_in_check': [0, 0],\n",
       " 'piece_map': {1: {8, 9, 10, 11, 12, 13, 14, 15},\n",
       "  2: {0, 7},\n",
       "  3: {1, 6},\n",
       "  4: {2, 5},\n",
       "  5: {3},\n",
       "  6: {4},\n",
       "  7: {48, 49, 50, 51, 52, 53, 54, 55},\n",
       "  8: {56, 63},\n",
       "  9: {57, 62},\n",
       "  10: {58, 61},\n",
       "  11: {59},\n",
       "  12: {60}},\n",
       " 'white_pawn_moves': 0,\n",
       " 'white_pawn_attacks': 0,\n",
       " 'white_rook_attacks': 0,\n",
       " 'white_knight_attacks': 0,\n",
       " 'white_bishop_attacks': 0,\n",
       " 'white_queen_attacks': 0,\n",
       " 'white_king_attacks': 0,\n",
       " 'black_pawn_moves': 0,\n",
       " 'black_pawn_attacks': 0,\n",
       " 'black_rook_attacks': 0,\n",
       " 'black_knight_attacks': 0,\n",
       " 'black_bishop_attacks': 0,\n",
       " 'black_queen_attacks': 0,\n",
       " 'black_king_attacks': 0}"
      ]
     },
     "execution_count": 25,
     "metadata": {},
     "output_type": "execute_result"
    }
   ],
   "source": [
    "position.__dict__"
   ]
  },
  {
   "cell_type": "code",
   "execution_count": null,
   "metadata": {},
   "outputs": [],
   "source": []
  },
  {
   "cell_type": "code",
   "execution_count": 89,
   "metadata": {},
   "outputs": [],
   "source": [
    "class BoardState:\n",
    "    def __init__(self, **kwargs):\n",
    "        print(kwargs)\n",
    "        self.x = kwargs['x']\n",
    "        self.y = kwargs['y']\n",
    "    \n",
    "class Board:\n",
    "    \n",
    "    def __init__(self):      \n",
    "        self.x = 1\n",
    "        self.y = 2\n",
    "    \n",
    "    def foo(self):\n",
    "        board_state = {\n",
    "            'x': 100,\n",
    "            'y': 200\n",
    "        }\n",
    "        new_state = BoardState(**board_state)\n",
    "        self.reset(board_state)\n",
    "        \n",
    "    def reset(self, board_state):\n",
    "        self.x = board_state['x']\n",
    "        self.y = board_state['y']"
   ]
  },
  {
   "cell_type": "code",
   "execution_count": 90,
   "metadata": {},
   "outputs": [],
   "source": [
    "board = Board()"
   ]
  },
  {
   "cell_type": "code",
   "execution_count": 91,
   "metadata": {},
   "outputs": [
    {
     "name": "stdout",
     "output_type": "stream",
     "text": [
      "{'x': 100, 'y': 200}\n"
     ]
    }
   ],
   "source": [
    "board.foo()"
   ]
  },
  {
   "cell_type": "code",
   "execution_count": 92,
   "metadata": {},
   "outputs": [
    {
     "data": {
      "text/plain": [
       "100"
      ]
     },
     "execution_count": 92,
     "metadata": {},
     "output_type": "execute_result"
    }
   ],
   "source": [
    "board.x"
   ]
  },
  {
   "cell_type": "code",
   "execution_count": null,
   "metadata": {},
   "outputs": [],
   "source": []
  }
 ],
 "metadata": {
  "kernelspec": {
   "display_name": "Python 3",
   "language": "python",
   "name": "python3"
  },
  "language_info": {
   "codemirror_mode": {
    "name": "ipython",
    "version": 3
   },
   "file_extension": ".py",
   "mimetype": "text/x-python",
   "name": "python",
   "nbconvert_exporter": "python",
   "pygments_lexer": "ipython3",
   "version": "3.8.5"
  }
 },
 "nbformat": 4,
 "nbformat_minor": 4
}
