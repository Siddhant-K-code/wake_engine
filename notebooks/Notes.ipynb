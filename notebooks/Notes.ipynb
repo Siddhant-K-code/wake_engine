{
 "cells": [
  {
   "cell_type": "code",
   "execution_count": 1,
   "metadata": {},
   "outputs": [],
   "source": [
    "from wake.game import Game\n",
    "from wake.move import Move\n",
    "from wake.position import Position, generate_fen\n",
    "from wake.bitboard_helpers import pprint_pieces, pprint_bb, set_bit, make_uint64\n",
    "from wake.constants import Piece, Square, Color, square_map\n",
    "\n",
    "import numpy as np\n",
    "\n",
    "position = Position()"
   ]
  },
  {
   "cell_type": "code",
   "execution_count": 2,
   "metadata": {},
   "outputs": [
    {
     "data": {
      "text/plain": [
       "'rnbqkbnr/pppppppp/8/8/4P3/8/PPPP1PPP/RNBQKBNR b KQkq e3 1 1'"
      ]
     },
     "execution_count": 2,
     "metadata": {},
     "output_type": "execute_result"
    }
   ],
   "source": [
    "m_1 = Move(Piece.wP, (Square.E2, Square.E4))\n",
    "position.make_move(m_1).fen"
   ]
  },
  {
   "cell_type": "code",
   "execution_count": 3,
   "metadata": {},
   "outputs": [
    {
     "data": {
      "text/plain": [
       "'rnbqkbnr/pppp1ppp/8/4p3/4P3/8/PPPP1PPP/RNBQKBNR w KQkq e6 1 2'"
      ]
     },
     "execution_count": 3,
     "metadata": {},
     "output_type": "execute_result"
    }
   ],
   "source": [
    "m_2 = Move(Piece.bP, (Square.E7, Square.E5))\n",
    "position.make_move(m_2).fen"
   ]
  },
  {
   "cell_type": "code",
   "execution_count": 4,
   "metadata": {},
   "outputs": [
    {
     "data": {
      "text/plain": [
       "'rnbqkbnr/pppp1ppp/8/4p3/4P3/5N2/PPPP1PPP/RNBQKB1R b KQkq - 2 2'"
      ]
     },
     "execution_count": 4,
     "metadata": {},
     "output_type": "execute_result"
    }
   ],
   "source": [
    "m_3 = Move(Piece.wN, (Square.G1, Square.F3))\n",
    "position.make_move(m_3).fen"
   ]
  },
  {
   "cell_type": "code",
   "execution_count": 5,
   "metadata": {},
   "outputs": [
    {
     "data": {
      "text/plain": [
       "'r1bqkbnr/pppp1ppp/2n5/4p3/4P3/5N2/PPPP1PPP/RNBQKB1R w KQkq - 3 3'"
      ]
     },
     "execution_count": 5,
     "metadata": {},
     "output_type": "execute_result"
    }
   ],
   "source": [
    "m_4 = Move(Piece.bN, (Square.B8, Square.C6))\n",
    "position.make_move(m_4).fen"
   ]
  },
  {
   "cell_type": "code",
   "execution_count": 6,
   "metadata": {},
   "outputs": [
    {
     "name": "stdout",
     "output_type": "stream",
     "text": [
      "8  ♜ ░ ♝ ♛ ♚ ♝ ♞ ♜\n",
      "7  ♟︎ ♟︎ ♟︎ ♟︎ ░ ♟︎ ♟︎ ♟︎\n",
      "6  ░ ░ ♞ ░ ░ ░ ░ ░\n",
      "5  ░ ░ ░ ░ ♟︎ ░ ░ ░\n",
      "4  ░ ░ ░ ░ ♙ ░ ░ ░\n",
      "3  ░ ░ ░ ░ ░ ♘ ░ ░\n",
      "2  ♙ ♙ ♙ ♙ ░ ♙ ♙ ♙\n",
      "1  ♖ ♘ ♗ ♕ ♔ ♗ ░ ♖\n",
      "   A B C D E F G H\n"
     ]
    }
   ],
   "source": [
    "pprint_pieces(position.piece_map)"
   ]
  },
  {
   "cell_type": "code",
   "execution_count": 7,
   "metadata": {},
   "outputs": [
    {
     "data": {
      "text/plain": [
       "'r1bqkbnr/pppp1ppp/2n5/1B2p3/4P3/5N2/PPPP1PPP/RNBQK2R b KQkq - 4 3'"
      ]
     },
     "execution_count": 7,
     "metadata": {},
     "output_type": "execute_result"
    }
   ],
   "source": [
    "m_5 = Move(Piece.wB, (Square.F1, Square.B5))\n",
    "position.make_move(m_5).fen"
   ]
  },
  {
   "cell_type": "code",
   "execution_count": 8,
   "metadata": {},
   "outputs": [
    {
     "data": {
      "text/plain": [
       "'r1bqkbnr/ppp2ppp/2np4/1B2p3/4P3/5N2/PPPP1PPP/RNBQK2R w KQkq - 1 4'"
      ]
     },
     "execution_count": 8,
     "metadata": {},
     "output_type": "execute_result"
    }
   ],
   "source": [
    "m_6 = Move(Piece.bP, (Square.D7, Square.D6))\n",
    "position.make_move(m_6).fen"
   ]
  },
  {
   "cell_type": "code",
   "execution_count": 9,
   "metadata": {},
   "outputs": [
    {
     "data": {
      "text/plain": [
       "'r1bqkbnr/ppp2ppp/2np4/1B2p3/4P3/5N2/PPPP1PPP/RNBQ1RK1 b kq - 2 4'"
      ]
     },
     "execution_count": 9,
     "metadata": {},
     "output_type": "execute_result"
    }
   ],
   "source": [
    "m_7 = Move(Piece.wK, (Square.E1, Square.G1))\n",
    "position.make_move(m_7).fen"
   ]
  },
  {
   "cell_type": "code",
   "execution_count": 10,
   "metadata": {},
   "outputs": [
    {
     "name": "stdout",
     "output_type": "stream",
     "text": [
      "8  ♜ ░ ♝ ♛ ♚ ♝ ♞ ♜\n",
      "7  ♟︎ ♟︎ ♟︎ ░ ░ ♟︎ ♟︎ ♟︎\n",
      "6  ░ ░ ♞ ♟︎ ░ ░ ░ ░\n",
      "5  ░ ♗ ░ ░ ♟︎ ░ ░ ░\n",
      "4  ░ ░ ░ ░ ♙ ░ ░ ░\n",
      "3  ░ ░ ░ ░ ░ ♘ ░ ░\n",
      "2  ♙ ♙ ♙ ♙ ░ ♙ ♙ ♙\n",
      "1  ♖ ♘ ♗ ♕ ░ ♖ ♔ ░\n",
      "   A B C D E F G H\n"
     ]
    }
   ],
   "source": [
    "pprint_pieces(position.piece_map)"
   ]
  },
  {
   "cell_type": "code",
   "execution_count": 11,
   "metadata": {},
   "outputs": [
    {
     "data": {
      "text/plain": [
       "'r1bqkbnr/ppp2ppp/2np4/1B2p3/4P3/5N2/PPPP1PPP/RNBQ1RK1 b kq - 2 4'"
      ]
     },
     "execution_count": 11,
     "metadata": {},
     "output_type": "execute_result"
    }
   ],
   "source": [
    "m_8 = Move(Piece.bN, (Square.C6, Square.D4))\n",
    "position.make_move(m_8).fen"
   ]
  },
  {
   "cell_type": "code",
   "execution_count": 12,
   "metadata": {},
   "outputs": [
    {
     "name": "stdout",
     "output_type": "stream",
     "text": [
      "8  ♜ ░ ♝ ♛ ♚ ♝ ♞ ♜\n",
      "7  ♟︎ ♟︎ ♟︎ ░ ░ ♟︎ ♟︎ ♟︎\n",
      "6  ░ ░ ♞ ♟︎ ░ ░ ░ ░\n",
      "5  ░ ♗ ░ ░ ♟︎ ░ ░ ░\n",
      "4  ░ ░ ░ ░ ♙ ░ ░ ░\n",
      "3  ░ ░ ░ ░ ░ ♘ ░ ░\n",
      "2  ♙ ♙ ♙ ♙ ░ ♙ ♙ ♙\n",
      "1  ♖ ♘ ♗ ♕ ░ ♖ ♔ ░\n",
      "   A B C D E F G H\n"
     ]
    }
   ],
   "source": [
    "pprint_pieces(position.piece_map)"
   ]
  },
  {
   "cell_type": "code",
   "execution_count": 13,
   "metadata": {},
   "outputs": [
    {
     "name": "stdout",
     "output_type": "stream",
     "text": [
      "8  ♜ ░ ░ ♛ ♚ ♝ ♞ ♜\n",
      "7  ♟︎ ♟︎ ♟︎ ░ ░ ♟︎ ♟︎ ♟︎\n",
      "6  ░ ░ ♞ ♟︎ ░ ░ ░ ░\n",
      "5  ░ ♗ ░ ░ ♟︎ ░ ░ ░\n",
      "4  ░ ░ ░ ░ ♙ ░ ♝ ░\n",
      "3  ░ ░ ░ ░ ░ ♘ ░ ░\n",
      "2  ♙ ♙ ♙ ♙ ░ ♙ ♙ ♙\n",
      "1  ♖ ♘ ♗ ♕ ░ ♖ ♔ ░\n",
      "   A B C D E F G H\n"
     ]
    }
   ],
   "source": [
    "m_8 = Move(Piece.bB, (Square.C8, Square.G4))\n",
    "position.make_move(m_8).fen\n",
    "pprint_pieces(position.piece_map)"
   ]
  },
  {
   "cell_type": "code",
   "execution_count": 14,
   "metadata": {},
   "outputs": [
    {
     "name": "stdout",
     "output_type": "stream",
     "text": [
      "8  ♜ ░ ░ ♛ ♚ ♝ ♞ ♜\n",
      "7  ♟︎ ♟︎ ♟︎ ░ ░ ♟︎ ♟︎ ♟︎\n",
      "6  ░ ░ ♗ ♟︎ ░ ░ ░ ░\n",
      "5  ░ ░ ░ ░ ♟︎ ░ ░ ░\n",
      "4  ░ ░ ░ ░ ♙ ░ ♝ ░\n",
      "3  ░ ░ ░ ░ ░ ♘ ░ ░\n",
      "2  ♙ ♙ ♙ ♙ ░ ♙ ♙ ♙\n",
      "1  ♖ ♘ ♗ ♕ ░ ♖ ♔ ░\n",
      "   A B C D E F G H\n"
     ]
    }
   ],
   "source": [
    "m_9 = Move(Piece.wB, (Square.B5, Square.C6))\n",
    "position.make_move(m_9).fen\n",
    "pprint_pieces(position.piece_map)"
   ]
  },
  {
   "cell_type": "code",
   "execution_count": 15,
   "metadata": {},
   "outputs": [
    {
     "data": {
      "text/plain": [
       "3"
      ]
     },
     "execution_count": 15,
     "metadata": {},
     "output_type": "execute_result"
    }
   ],
   "source": [
    "position.current_evaluation"
   ]
  }
 ],
 "metadata": {
  "kernelspec": {
   "display_name": "Python 3",
   "language": "python",
   "name": "python3"
  },
  "language_info": {
   "codemirror_mode": {
    "name": "ipython",
    "version": 3
   },
   "file_extension": ".py",
   "mimetype": "text/x-python",
   "name": "python",
   "nbconvert_exporter": "python",
   "pygments_lexer": "ipython3",
   "version": "3.8.5"
  }
 },
 "nbformat": 4,
 "nbformat_minor": 4
}
