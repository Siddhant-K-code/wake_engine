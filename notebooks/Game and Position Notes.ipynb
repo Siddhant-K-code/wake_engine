{
 "cells": [
  {
   "cell_type": "code",
   "execution_count": 1,
   "metadata": {},
   "outputs": [],
   "source": [
    "import sys\n",
    "\n",
    "import numpy as np\n",
    "from numpy import uint64 as u\n",
    "\n",
    "from wake.bitboard_helpers import pprint_bb, set_bit, get_binary_string, make_uint64\n",
    "from wake.constants import File, Piece, Square as sq\n",
    "from wake.game import Game\n",
    "from wake.move import Move\n"
   ]
  },
  {
   "cell_type": "code",
   "execution_count": 2,
   "metadata": {},
   "outputs": [],
   "source": [
    "x = np.zeros(64, dtype=\"byte\")\n",
    "y = np.uint64(912839138038)"
   ]
  },
  {
   "cell_type": "code",
   "execution_count": 3,
   "metadata": {},
   "outputs": [
    {
     "name": "stdout",
     "output_type": "stream",
     "text": [
      "160\n",
      "32\n"
     ]
    }
   ],
   "source": [
    "print(sys.getsizeof(x))\n",
    "print(sys.getsizeof(y))"
   ]
  },
  {
   "cell_type": "code",
   "execution_count": 4,
   "metadata": {},
   "outputs": [
    {
     "data": {
      "text/plain": [
       "{'board': <wake.board.Board at 0x110e06370>,\n",
       " 'color_to_move': 0,\n",
       " 'castle_rights': {0: [1, 1], 1: [1, 1]},\n",
       " 'en_passant_target': None,\n",
       " 'halfmove_clock': 0,\n",
       " 'piece_map': {1: {8, 9, 10, 11, 12, 13, 14, 15},\n",
       "  2: {0, 7},\n",
       "  3: {1, 6},\n",
       "  4: {2, 5},\n",
       "  5: {3},\n",
       "  6: {4},\n",
       "  7: {48, 49, 50, 51, 52, 53, 54, 55},\n",
       "  8: {56, 63},\n",
       "  9: {57, 62},\n",
       "  10: {58, 61},\n",
       "  11: {59},\n",
       "  12: {60}},\n",
       " 'white_pawn_moves': 0,\n",
       " 'white_pawn_attacks': 0,\n",
       " 'white_rook_attacks': 0,\n",
       " 'white_knight_attacks': 0,\n",
       " 'white_bishop_attacks': 0,\n",
       " 'white_queen_attacks': 0,\n",
       " 'white_king_attacks': 0,\n",
       " 'black_pawn_moves': 0,\n",
       " 'black_pawn_attacks': 0,\n",
       " 'black_rook_attacks': 0,\n",
       " 'black_knight_attacks': 0,\n",
       " 'black_bishop_attacks': 0,\n",
       " 'black_queen_attacks': 0,\n",
       " 'black_king_attacks': 0}"
      ]
     },
     "execution_count": 4,
     "metadata": {},
     "output_type": "execute_result"
    }
   ],
   "source": [
    "game = Game()\n",
    "game.get_current_position().__dict__"
   ]
  },
  {
   "cell_type": "code",
   "execution_count": 5,
   "metadata": {},
   "outputs": [
    {
     "data": {
      "text/plain": [
       "<wake.board.Board at 0x110e06370>"
      ]
     },
     "execution_count": 5,
     "metadata": {},
     "output_type": "execute_result"
    }
   ],
   "source": [
    "position = game.get_current_position()\n",
    "position.board"
   ]
  },
  {
   "cell_type": "code",
   "execution_count": 6,
   "metadata": {},
   "outputs": [
    {
     "name": "stdout",
     "output_type": "stream",
     "text": [
      "8  ░ ░ ░ ░ ░ ░ ░ ░\n",
      "7  ░ ░ ░ ░ ░ ░ ░ ░\n",
      "6  ░ ░ ░ ░ ░ ░ ░ ░\n",
      "5  ░ ░ ░ ░ ░ ░ ░ ░\n",
      "4  ░ ░ ░ ░ ░ ░ ░ ░\n",
      "3  ░ ░ ░ ░ ░ ░ ░ ░\n",
      "2  ▓ ▓ ▓ ▓ ▓ ▓ ▓ ▓\n",
      "1  ▓ ▓ ▓ ▓ ▓ ▓ ▓ ▓\n",
      "   A B C D E F G H\n"
     ]
    }
   ],
   "source": [
    "pprint_bb(position.board.white_pieces_bb)"
   ]
  },
  {
   "cell_type": "code",
   "execution_count": 7,
   "metadata": {},
   "outputs": [
    {
     "name": "stdout",
     "output_type": "stream",
     "text": [
      "8  ▓ ▓ ▓ ▓ ▓ ▓ ▓ ▓\n",
      "7  ▓ ▓ ▓ ▓ ▓ ▓ ▓ ▓\n",
      "6  ░ ░ ░ ░ ░ ░ ░ ░\n",
      "5  ░ ░ ░ ░ ░ ░ ░ ░\n",
      "4  ░ ░ ░ ░ ░ ░ ░ ░\n",
      "3  ░ ░ ░ ░ ░ ░ ░ ░\n",
      "2  ▓ ▓ ▓ ▓ ▓ ▓ ▓ ▓\n",
      "1  ▓ ▓ ▓ ▓ ▓ ▓ ▓ ▓\n",
      "   A B C D E F G H\n"
     ]
    }
   ],
   "source": [
    "pprint_bb(position.board.white_pieces_bb | position.board.black_pieces_bb)"
   ]
  },
  {
   "cell_type": "code",
   "execution_count": 8,
   "metadata": {},
   "outputs": [
    {
     "name": "stdout",
     "output_type": "stream",
     "text": [
      "Illegal move\n",
      "8  ▓ ▓ ▓ ▓ ▓ ▓ ▓ ▓\n",
      "7  ▓ ▓ ▓ ▓ ▓ ▓ ▓ ▓\n",
      "6  ░ ░ ░ ░ ░ ░ ░ ░\n",
      "5  ░ ░ ░ ░ ░ ░ ░ ░\n",
      "4  ░ ░ ░ ░ ░ ░ ░ ░\n",
      "3  ░ ░ ░ ░ ░ ░ ░ ░\n",
      "2  ▓ ▓ ▓ ▓ ▓ ▓ ▓ ▓\n",
      "1  ▓ ▓ ▓ ▓ ▓ ▓ ▓ ▓\n",
      "   A B C D E F G H\n"
     ]
    }
   ],
   "source": [
    "move = Move(Piece.wN, (sq.G1, sq.F3))\n",
    "position.make_move(move)\n",
    "pprint_bb(~position.board.empty_squares_bb)"
   ]
  },
  {
   "cell_type": "code",
   "execution_count": 9,
   "metadata": {},
   "outputs": [
    {
     "data": {
      "text/plain": [
       "'0xffff00000000ffff'"
      ]
     },
     "execution_count": 9,
     "metadata": {},
     "output_type": "execute_result"
    }
   ],
   "source": [
    "hex(position.board.white_pieces_bb | position.board.black_pieces_bb)"
   ]
  },
  {
   "cell_type": "code",
   "execution_count": 10,
   "metadata": {},
   "outputs": [
    {
     "data": {
      "text/plain": [
       "'0000000000000000000000000000000000000000000000001111111111111111'"
      ]
     },
     "execution_count": 10,
     "metadata": {},
     "output_type": "execute_result"
    }
   ],
   "source": [
    "get_binary_string(position.board.white_pieces_bb)"
   ]
  },
  {
   "cell_type": "code",
   "execution_count": 11,
   "metadata": {
    "scrolled": true
   },
   "outputs": [
    {
     "name": "stdout",
     "output_type": "stream",
     "text": [
      "Illegal move\n"
     ]
    }
   ],
   "source": [
    "move = Move(Piece.wN, (sq.G1, sq.F3))\n",
    "position.make_move(move)"
   ]
  },
  {
   "cell_type": "code",
   "execution_count": 12,
   "metadata": {},
   "outputs": [
    {
     "data": {
      "text/plain": [
       "65535"
      ]
     },
     "execution_count": 12,
     "metadata": {},
     "output_type": "execute_result"
    }
   ],
   "source": [
    "position.board.white_pieces_bb"
   ]
  },
  {
   "cell_type": "code",
   "execution_count": 13,
   "metadata": {},
   "outputs": [
    {
     "data": {
      "text/plain": [
       "numpy.uint64"
      ]
     },
     "execution_count": 13,
     "metadata": {},
     "output_type": "execute_result"
    }
   ],
   "source": [
    "type(position.board.white_pieces_bb)"
   ]
  },
  {
   "cell_type": "code",
   "execution_count": 14,
   "metadata": {},
   "outputs": [
    {
     "name": "stdout",
     "output_type": "stream",
     "text": [
      "8  ▓ ▓ ▓ ▓ ▓ ▓ ▓ ▓\n",
      "7  ▓ ▓ ▓ ▓ ▓ ▓ ▓ ▓\n",
      "6  ░ ░ ░ ░ ░ ░ ░ ░\n",
      "5  ░ ░ ░ ░ ░ ░ ░ ░\n",
      "4  ░ ░ ░ ░ ░ ░ ░ ░\n",
      "3  ░ ░ ░ ░ ░ ░ ░ ░\n",
      "2  ▓ ▓ ▓ ▓ ▓ ▓ ▓ ▓\n",
      "1  ▓ ▓ ▓ ▓ ▓ ▓ ▓ ▓\n",
      "   A B C D E F G H\n"
     ]
    }
   ],
   "source": [
    "pprint_bb(position.board.occupied_squares_bb)"
   ]
  },
  {
   "cell_type": "code",
   "execution_count": 15,
   "metadata": {},
   "outputs": [
    {
     "name": "stdout",
     "output_type": "stream",
     "text": [
      "Illegal move\n",
      "8  ▓ ▓ ▓ ▓ ▓ ▓ ▓ ▓\n",
      "7  ▓ ▓ ▓ ▓ ▓ ▓ ▓ ▓\n",
      "6  ░ ░ ░ ░ ░ ░ ░ ░\n",
      "5  ░ ░ ░ ░ ░ ░ ░ ░\n",
      "4  ░ ░ ░ ░ ░ ░ ░ ░\n",
      "3  ░ ░ ░ ░ ░ ░ ░ ░\n",
      "2  ▓ ▓ ▓ ▓ ▓ ▓ ▓ ▓\n",
      "1  ▓ ▓ ▓ ▓ ▓ ▓ ▓ ▓\n",
      "   A B C D E F G H\n"
     ]
    }
   ],
   "source": [
    "move = Move(Piece.bN, (sq.B8, sq.C6))\n",
    "position.make_move(move)\n",
    "pprint_bb(position.board.occupied_squares_bb)"
   ]
  },
  {
   "cell_type": "code",
   "execution_count": 16,
   "metadata": {},
   "outputs": [
    {
     "name": "stdout",
     "output_type": "stream",
     "text": [
      "Illegal move\n",
      "8  ▓ ▓ ▓ ▓ ▓ ▓ ▓ ▓\n",
      "7  ▓ ▓ ▓ ▓ ▓ ▓ ▓ ▓\n",
      "6  ░ ░ ░ ░ ░ ░ ░ ░\n",
      "5  ░ ░ ░ ░ ░ ░ ░ ░\n",
      "4  ░ ░ ░ ░ ░ ░ ░ ░\n",
      "3  ░ ░ ░ ░ ░ ░ ░ ░\n",
      "2  ▓ ▓ ▓ ▓ ▓ ▓ ▓ ▓\n",
      "1  ▓ ▓ ▓ ▓ ▓ ▓ ▓ ▓\n",
      "   A B C D E F G H\n"
     ]
    }
   ],
   "source": [
    "move = Move(Piece.wB, (sq.F1, sq.B5))\n",
    "position.make_move(move)\n",
    "pprint_bb(position.board.occupied_squares_bb)"
   ]
  },
  {
   "cell_type": "code",
   "execution_count": 18,
   "metadata": {},
   "outputs": [
    {
     "name": "stdout",
     "output_type": "stream",
     "text": [
      "Illegal move\n",
      "8  ▓ ▓ ▓ ▓ ▓ ▓ ▓ ▓\n",
      "7  ▓ ▓ ▓ ▓ ▓ ▓ ▓ ▓\n",
      "6  ░ ░ ░ ░ ░ ░ ░ ░\n",
      "5  ░ ░ ░ ░ ░ ░ ░ ░\n",
      "4  ░ ░ ░ ░ ░ ░ ░ ░\n",
      "3  ░ ░ ░ ░ ░ ░ ░ ░\n",
      "2  ▓ ▓ ▓ ▓ ▓ ▓ ▓ ▓\n",
      "1  ▓ ▓ ▓ ▓ ▓ ▓ ▓ ▓\n",
      "   A B C D E F G H\n"
     ]
    }
   ],
   "source": [
    "move = Move(Piece.bP, (sq.A7, sq.A6))\n",
    "position.make_move(move)\n",
    "pprint_bb(position.board.occupied_squares_bb)"
   ]
  },
  {
   "cell_type": "code",
   "execution_count": 20,
   "metadata": {},
   "outputs": [
    {
     "name": "stdout",
     "output_type": "stream",
     "text": [
      "8  ▓ ▓ ▓ ▓ ▓ ▓ ▓ ▓\n",
      "7  ▓ ▓ ▓ ▓ ▓ ▓ ▓ ▓\n",
      "6  ░ ░ ░ ░ ░ ░ ░ ░\n",
      "5  ░ ░ ░ ░ ░ ░ ░ ░\n",
      "4  ░ ░ ░ ░ ▓ ░ ░ ░\n",
      "3  ░ ░ ░ ░ ░ ░ ░ ░\n",
      "2  ▓ ▓ ▓ ▓ ░ ▓ ▓ ▓\n",
      "1  ▓ ▓ ▓ ▓ ▓ ▓ ▓ ▓\n",
      "   A B C D E F G H\n"
     ]
    }
   ],
   "source": [
    "move = Move(Piece.wP, (sq.E2, sq.E4))\n",
    "position.make_move(move)\n",
    "pprint_bb(position.board.occupied_squares_bb)"
   ]
  },
  {
   "cell_type": "code",
   "execution_count": 21,
   "metadata": {},
   "outputs": [
    {
     "name": "stdout",
     "output_type": "stream",
     "text": [
      "8  ▓ ▓ ▓ ▓ ▓ ▓ ░ ▓\n",
      "7  ▓ ▓ ▓ ▓ ▓ ▓ ▓ ▓\n",
      "6  ░ ░ ░ ░ ░ ▓ ░ ░\n",
      "5  ░ ░ ░ ░ ░ ░ ░ ░\n",
      "4  ░ ░ ░ ░ ▓ ░ ░ ░\n",
      "3  ░ ░ ░ ░ ░ ░ ░ ░\n",
      "2  ▓ ▓ ▓ ▓ ░ ▓ ▓ ▓\n",
      "1  ▓ ▓ ▓ ▓ ▓ ▓ ▓ ▓\n",
      "   A B C D E F G H\n"
     ]
    }
   ],
   "source": [
    "move = Move(Piece.bN, (sq.G8, sq.F6))\n",
    "position.make_move(move)\n",
    "pprint_bb(position.board.occupied_squares_bb)"
   ]
  },
  {
   "cell_type": "code",
   "execution_count": 22,
   "metadata": {},
   "outputs": [
    {
     "name": "stdout",
     "output_type": "stream",
     "text": [
      "8  ░ ░ ░ ░ ░ ░ ░ ░\n",
      "7  ░ ░ ░ ░ ░ ░ ░ ░\n",
      "6  ░ ░ ░ ░ ░ ░ ░ ░\n",
      "5  ░ ░ ░ ░ ░ ░ ░ ░\n",
      "4  ░ ░ ░ ░ ▓ ░ ░ ░\n",
      "3  ░ ░ ░ ░ ░ ░ ░ ░\n",
      "2  ▓ ▓ ▓ ▓ ░ ▓ ▓ ▓\n",
      "1  ▓ ▓ ▓ ▓ ▓ ▓ ▓ ▓\n",
      "   A B C D E F G H\n"
     ]
    }
   ],
   "source": [
    "pprint_bb(position.board.white_pieces_bb)"
   ]
  },
  {
   "cell_type": "code",
   "execution_count": 23,
   "metadata": {},
   "outputs": [
    {
     "name": "stdout",
     "output_type": "stream",
     "text": [
      "8  ░ ░ ░ ░ ░ ░ ░ ░\n",
      "7  ░ ░ ░ ░ ░ ░ ░ ░\n",
      "6  ░ ░ ░ ░ ░ ░ ░ ░\n",
      "5  ░ ░ ░ ▓ ░ ▓ ░ ░\n",
      "4  ░ ░ ░ ░ ░ ░ ░ ░\n",
      "3  ▓ ▓ ▓ ▓ ▓ ▓ ▓ ▓\n",
      "2  ░ ░ ░ ░ ░ ░ ░ ░\n",
      "1  ░ ░ ░ ░ ░ ░ ░ ░\n",
      "   A B C D E F G H\n"
     ]
    }
   ],
   "source": [
    "pprint_bb(position.board.white_pawn_attacks)"
   ]
  },
  {
   "cell_type": "code",
   "execution_count": 24,
   "metadata": {},
   "outputs": [
    {
     "name": "stdout",
     "output_type": "stream",
     "text": [
      "8  ▓ ░ ░ ░ ░ ░ ░ ░\n",
      "7  ░ ▓ ░ ░ ░ ░ ░ ▓\n",
      "6  ░ ░ ▓ ░ ░ ░ ▓ ░\n",
      "5  ░ ░ ░ ▓ ░ ▓ ░ ░\n",
      "4  ░ ░ ░ ░ ░ ░ ░ ░\n",
      "3  ░ ░ ░ ▓ ░ ▓ ░ ░\n",
      "2  ░ ░ ▓ ░ ░ ░ ▓ ░\n",
      "1  ░ ▓ ░ ░ ░ ░ ░ ▓\n",
      "   A B C D E F G H\n"
     ]
    }
   ],
   "source": [
    "pprint_bb(position.board.get_bishop_attack_from(sq.E4))"
   ]
  },
  {
   "cell_type": "code",
   "execution_count": 25,
   "metadata": {},
   "outputs": [
    {
     "name": "stdout",
     "output_type": "stream",
     "text": [
      "8  ░ ░ ░ ░ ░ ░ ░ ░\n",
      "7  ░ ░ ░ ░ ░ ░ ░ ░\n",
      "6  ░ ░ ░ ░ ░ ░ ░ ░\n",
      "5  ░ ░ ░ ░ ░ ░ ░ ░\n",
      "4  ░ ░ ░ ░ ▓ ░ ░ ░\n",
      "3  ░ ░ ░ ░ ░ ░ ░ ░\n",
      "2  ▓ ▓ ▓ ▓ ░ ▓ ▓ ▓\n",
      "1  ▓ ▓ ▓ ▓ ▓ ▓ ▓ ▓\n",
      "   A B C D E F G H\n"
     ]
    }
   ],
   "source": [
    "pprint_bb(position.board.white_pieces_bb)"
   ]
  },
  {
   "cell_type": "code",
   "execution_count": 26,
   "metadata": {},
   "outputs": [
    {
     "name": "stdout",
     "output_type": "stream",
     "text": [
      "8  ▓ ▓ ▓ ▓ ▓ ▓ ░ ▓\n",
      "7  ▓ ▓ ▓ ▓ ▓ ▓ ▓ ▓\n",
      "6  ░ ░ ░ ░ ░ ▓ ░ ░\n",
      "5  ░ ░ ░ ░ ░ ░ ░ ░\n",
      "4  ░ ░ ░ ░ ░ ░ ░ ░\n",
      "3  ░ ░ ░ ░ ░ ░ ░ ░\n",
      "2  ░ ░ ░ ░ ░ ░ ░ ░\n",
      "1  ░ ░ ░ ░ ░ ░ ░ ░\n",
      "   A B C D E F G H\n"
     ]
    }
   ],
   "source": [
    "pprint_bb(position.board.black_pieces_bb)"
   ]
  },
  {
   "cell_type": "code",
   "execution_count": 27,
   "metadata": {},
   "outputs": [
    {
     "name": "stdout",
     "output_type": "stream",
     "text": [
      "8  ▓ ▓ ▓ ▓ ▓ ▓ ░ ▓\n",
      "7  ▓ ▓ ▓ ▓ ▓ ▓ ▓ ▓\n",
      "6  ░ ░ ░ ░ ░ ▓ ░ ░\n",
      "5  ░ ░ ░ ░ ░ ░ ░ ░\n",
      "4  ░ ░ ░ ░ ▓ ░ ░ ░\n",
      "3  ░ ░ ░ ░ ░ ░ ░ ░\n",
      "2  ▓ ▓ ▓ ▓ ░ ▓ ▓ ▓\n",
      "1  ▓ ▓ ▓ ▓ ▓ ▓ ▓ ▓\n",
      "   A B C D E F G H\n"
     ]
    }
   ],
   "source": [
    "pprint_bb(position.board.occupied_squares_bb)"
   ]
  },
  {
   "cell_type": "code",
   "execution_count": 28,
   "metadata": {},
   "outputs": [
    {
     "name": "stdout",
     "output_type": "stream",
     "text": [
      "8  ░ ░ ░ ░ ░ ░ ░ ░\n",
      "7  ░ ░ ░ ░ ░ ░ ░ ░\n",
      "6  ░ ░ ░ ░ ░ ░ ░ ░\n",
      "5  ░ ░ ░ ▓ ░ ▓ ░ ░\n",
      "4  ░ ░ ░ ░ ░ ░ ░ ░\n",
      "3  ▓ ▓ ▓ ▓ ▓ ▓ ▓ ▓\n",
      "2  ░ ░ ░ ░ ░ ░ ░ ░\n",
      "1  ░ ░ ░ ░ ░ ░ ░ ░\n",
      "   A B C D E F G H\n"
     ]
    }
   ],
   "source": [
    "pprint_bb(position.board.white_pawn_attacks)"
   ]
  },
  {
   "cell_type": "code",
   "execution_count": 29,
   "metadata": {},
   "outputs": [
    {
     "name": "stdout",
     "output_type": "stream",
     "text": [
      "8  ░ ░ ░ ░ ░ ░ ▓ ░\n",
      "7  ░ ░ ░ ░ ░ ░ ░ ░\n",
      "6  ▓ ▓ ▓ ▓ ▓ ░ ▓ ▓\n",
      "5  ▓ ▓ ▓ ▓ ▓ ▓ ▓ ▓\n",
      "4  ▓ ▓ ▓ ▓ ░ ▓ ▓ ▓\n",
      "3  ▓ ▓ ▓ ▓ ▓ ▓ ▓ ▓\n",
      "2  ░ ░ ░ ░ ▓ ░ ░ ░\n",
      "1  ░ ░ ░ ░ ░ ░ ░ ░\n",
      "   A B C D E F G H\n"
     ]
    }
   ],
   "source": [
    "pprint_bb(position.board.empty_squares_bb)"
   ]
  },
  {
   "cell_type": "code",
   "execution_count": 30,
   "metadata": {},
   "outputs": [
    {
     "name": "stdout",
     "output_type": "stream",
     "text": [
      "8  ░ ░ ░ ░ ░ ▓ ░ ░\n",
      "7  ▓ ░ ░ ░ ▓ ░ ░ ░\n",
      "6  ░ ▓ ░ ▓ ░ ░ ░ ░\n",
      "5  ░ ░ ░ ░ ░ ░ ░ ░\n",
      "4  ░ ▓ ░ ▓ ░ ░ ░ ░\n",
      "3  ▓ ░ ░ ░ ▓ ░ ░ ░\n",
      "2  ░ ░ ░ ░ ░ ▓ ░ ░\n",
      "1  ░ ░ ░ ░ ░ ░ ▓ ░\n",
      "   A B C D E F G H\n"
     ]
    }
   ],
   "source": [
    "bb = position.board.bishop_attack_bbs[sq.C5]\n",
    "pprint_bb(bb)"
   ]
  },
  {
   "cell_type": "code",
   "execution_count": 31,
   "metadata": {},
   "outputs": [
    {
     "name": "stdout",
     "output_type": "stream",
     "text": [
      "8  ░ ░ ▓ ░ ░ ░ ░ ░\n",
      "7  ░ ░ ▓ ░ ░ ░ ░ ░\n",
      "6  ░ ░ ▓ ░ ░ ░ ░ ░\n",
      "5  ░ ░ ▓ ░ ░ ░ ░ ░\n",
      "4  ▓ ▓ ░ ▓ ▓ ▓ ▓ ▓\n",
      "3  ░ ░ ▓ ░ ░ ░ ░ ░\n",
      "2  ░ ░ ▓ ░ ░ ░ ░ ░\n",
      "1  ░ ░ ▓ ░ ░ ░ ░ ░\n",
      "   A B C D E F G H\n"
     ]
    }
   ],
   "source": [
    "square = sq.C4\n",
    "attack_bb = position.board.rook_attack_bbs[square]\n",
    "pprint_bb(attack_bb)"
   ]
  },
  {
   "cell_type": "code",
   "execution_count": 32,
   "metadata": {},
   "outputs": [
    {
     "name": "stdout",
     "output_type": "stream",
     "text": [
      "8  ░ ░ ░ ▓ ░ ░ ░ ▓\n",
      "7  ▓ ░ ░ ▓ ░ ░ ▓ ░\n",
      "6  ░ ▓ ░ ▓ ░ ▓ ░ ░\n",
      "5  ░ ░ ▓ ▓ ▓ ░ ░ ░\n",
      "4  ▓ ▓ ▓ ░ ▓ ▓ ▓ ▓\n",
      "3  ░ ░ ▓ ▓ ▓ ░ ░ ░\n",
      "2  ░ ▓ ░ ▓ ░ ▓ ░ ░\n",
      "1  ▓ ░ ░ ▓ ░ ░ ▓ ░\n",
      "   A B C D E F G H\n"
     ]
    }
   ],
   "source": [
    "square = sq.D4\n",
    "attack_bb = position.board.queen_attack_bbs[square]\n",
    "pprint_bb(attack_bb)"
   ]
  },
  {
   "cell_type": "code",
   "execution_count": 33,
   "metadata": {},
   "outputs": [
    {
     "name": "stdout",
     "output_type": "stream",
     "text": [
      "8  ░ ░ ░ ░ ░ ░ ░ ░\n",
      "7  ░ ░ ░ ░ ░ ░ ░ ░\n",
      "6  ░ ░ ░ ░ ░ ░ ░ ░\n",
      "5  ░ ░ ▓ ▓ ▓ ░ ░ ░\n",
      "4  ░ ░ ▓ ░ ▓ ░ ░ ░\n",
      "3  ░ ░ ▓ ▓ ▓ ░ ░ ░\n",
      "2  ░ ░ ░ ░ ░ ░ ░ ░\n",
      "1  ░ ░ ░ ░ ░ ░ ░ ░\n",
      "   A B C D E F G H\n"
     ]
    }
   ],
   "source": [
    "square = sq.D4\n",
    "attack_bb = position.board.king_attack_bbs[square]\n",
    "pprint_bb(attack_bb)"
   ]
  },
  {
   "cell_type": "code",
   "execution_count": 34,
   "metadata": {},
   "outputs": [
    {
     "name": "stdout",
     "output_type": "stream",
     "text": [
      "8  ░ ░ ░ ░ ░ ░ ░ ░\n",
      "7  ░ ░ ░ ░ ░ ░ ░ ░\n",
      "6  ░ ░ ▓ ░ ▓ ░ ░ ░\n",
      "5  ░ ▓ ░ ░ ░ ▓ ░ ░\n",
      "4  ░ ░ ░ ░ ░ ░ ░ ░\n",
      "3  ░ ▓ ░ ░ ░ ▓ ░ ░\n",
      "2  ░ ░ ▓ ░ ▓ ░ ░ ░\n",
      "1  ░ ░ ░ ░ ░ ░ ░ ░\n",
      "   A B C D E F G H\n"
     ]
    }
   ],
   "source": [
    "square = sq.D4\n",
    "attack_bb = position.board.knight_attack_bbs[square]\n",
    "pprint_bb(attack_bb)"
   ]
  },
  {
   "cell_type": "code",
   "execution_count": 35,
   "metadata": {},
   "outputs": [],
   "source": [
    "square = sq.B4\n",
    "\n",
    "def generate_knight_attack_bb_from_square(square):\n",
    "    attack_bb = make_uint64()\n",
    "    for i in [6, 15, 17, 10, -6, -15, -17, -10]:\n",
    "        attack_bb |= set_bit(attack_bb, square + i)\n",
    "        if square in (File.B | File.A):\n",
    "            attack_bb &= ~(u(File.hexG | File.hexH))\n",
    "    return attack_bb"
   ]
  },
  {
   "cell_type": "code",
   "execution_count": 36,
   "metadata": {},
   "outputs": [
    {
     "name": "stdout",
     "output_type": "stream",
     "text": [
      "8  ░ ░ ░ ░ ░ ░ ░ ░\n",
      "7  ░ ░ ░ ░ ░ ░ ░ ░\n",
      "6  ▓ ░ ▓ ░ ░ ░ ░ ░\n",
      "5  ░ ░ ░ ▓ ░ ░ ░ ░\n",
      "4  ░ ░ ░ ░ ░ ░ ░ ░\n",
      "3  ░ ░ ░ ▓ ░ ░ ░ ░\n",
      "2  ▓ ░ ▓ ░ ░ ░ ░ ░\n",
      "1  ░ ░ ░ ░ ░ ░ ░ ░\n",
      "   A B C D E F G H\n"
     ]
    }
   ],
   "source": [
    "x = generate_knight_attack_bb_from_square(square)\n",
    "pprint_bb(x)"
   ]
  }
 ],
 "metadata": {
  "kernelspec": {
   "display_name": "Python 3",
   "language": "python",
   "name": "python3"
  },
  "language_info": {
   "codemirror_mode": {
    "name": "ipython",
    "version": 3
   },
   "file_extension": ".py",
   "mimetype": "text/x-python",
   "name": "python",
   "nbconvert_exporter": "python",
   "pygments_lexer": "ipython3",
   "version": "3.8.5"
  },
  "pycharm": {
   "stem_cell": {
    "cell_type": "raw",
    "metadata": {
     "collapsed": false
    },
    "source": []
   }
  }
 },
 "nbformat": 4,
 "nbformat_minor": 4
}
