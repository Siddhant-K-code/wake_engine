{
 "cells": [
  {
   "cell_type": "code",
   "execution_count": null,
   "metadata": {},
   "outputs": [],
   "source": [
    "from wake.board import Board \n",
    "from wake.constants import Square as sq\n",
    "from wake.bitboard_helpers import pprint_bb"
   ]
  },
  {
   "cell_type": "code",
   "execution_count": null,
   "metadata": {},
   "outputs": [],
   "source": [
    "board = Board()"
   ]
  },
  {
   "cell_type": "code",
   "execution_count": null,
   "metadata": {},
   "outputs": [],
   "source": [
    "state = board.update_occupied_squares_bb()"
   ]
  },
  {
   "cell_type": "code",
   "execution_count": null,
   "metadata": {},
   "outputs": [],
   "source": [
    "pprint_bb(board.occupied_squares_bb)"
   ]
  },
  {
   "cell_type": "code",
   "execution_count": null,
   "metadata": {},
   "outputs": [],
   "source": [
    "white_pawns = board.white_P_bb\n",
    "white_king = board.white_K_bb"
   ]
  },
  {
   "cell_type": "code",
   "execution_count": null,
   "metadata": {},
   "outputs": [],
   "source": [
    "pprint_bb(white_pawns)"
   ]
  },
  {
   "cell_type": "code",
   "execution_count": null,
   "metadata": {},
   "outputs": [],
   "source": [
    "pprint_bb(white_king)"
   ]
  },
  {
   "cell_type": "code",
   "execution_count": null,
   "metadata": {},
   "outputs": [],
   "source": [
    "pprint_bb(board.black_R_bb)"
   ]
  },
  {
   "cell_type": "code",
   "execution_count": null,
   "metadata": {},
   "outputs": [],
   "source": [
    "pprint_bb(board.get_empty_squares_bb())"
   ]
  },
  {
   "cell_type": "code",
   "execution_count": null,
   "metadata": {},
   "outputs": [],
   "source": [
    "pprint_bb(board.queenside_bb)\n",
    "pprint_bb(board.kingside_bb)\n",
    "pprint_bb(board.center_files_bb)\n",
    "pprint_bb(board.center_bb)\n",
    "pprint_bb(board.flanks_bb)"
   ]
  },
  {
   "cell_type": "code",
   "execution_count": null,
   "metadata": {},
   "outputs": [],
   "source": [
    "board.plus1(sq.a1)"
   ]
  },
  {
   "cell_type": "code",
   "execution_count": null,
   "metadata": {},
   "outputs": [],
   "source": [
    "pprint_bb(board.bb)"
   ]
  },
  {
   "cell_type": "code",
   "execution_count": null,
   "metadata": {},
   "outputs": [],
   "source": [
    "board.reset_bb()\n",
    "board.plus7(sq.f4)\n",
    "pprint_bb(board.bb)"
   ]
  },
  {
   "cell_type": "code",
   "execution_count": null,
   "metadata": {},
   "outputs": [],
   "source": [
    "board.reset_bb()\n",
    "board.plus8(sq.f4)\n",
    "pprint_bb(board.bb)"
   ]
  },
  {
   "cell_type": "code",
   "execution_count": null,
   "metadata": {},
   "outputs": [],
   "source": [
    "board.reset_bb()\n",
    "board.plus9(sq.f4)\n",
    "pprint_bb(board.bb)\n",
    "board.reset_bb()\n",
    "board.plus9(sq.a1)\n",
    "pprint_bb(board.bb)\n",
    "board.reset_bb()\n",
    "board.plus9(sq.b4)\n",
    "pprint_bb(board.bb)"
   ]
  },
  {
   "cell_type": "code",
   "execution_count": null,
   "metadata": {},
   "outputs": [],
   "source": [
    "board.reset_bb()\n",
    "board.minus9(sq.d4)\n",
    "pprint_bb(board.bb)\n",
    "board.reset_bb()\n",
    "board.minus9(sq.h8)\n",
    "pprint_bb(board.bb)\n",
    "board.reset_bb()\n",
    "board.minus9(sq.h2)\n",
    "pprint_bb(board.bb)"
   ]
  },
  {
   "cell_type": "code",
   "execution_count": null,
   "metadata": {},
   "outputs": [],
   "source": [
    "board.reset_bb()\n",
    "board.minus1(sq.f5)\n",
    "pprint_bb(board.bb)"
   ]
  },
  {
   "cell_type": "code",
   "execution_count": null,
   "metadata": {},
   "outputs": [],
   "source": [
    "board.reset_bb()\n",
    "board.minus7(sq.d5)\n",
    "pprint_bb(board.bb)"
   ]
  },
  {
   "cell_type": "code",
   "execution_count": null,
   "metadata": {},
   "outputs": [],
   "source": [
    "board.reset_bb()\n",
    "board.minus7(sq.b8)\n",
    "pprint_bb(board.bb)"
   ]
  },
  {
   "cell_type": "code",
   "execution_count": null,
   "metadata": {},
   "outputs": [],
   "source": [
    "board.reset_bb()\n",
    "board.minus7(sq.g8)\n",
    "pprint_bb(board.bb)"
   ]
  },
  {
   "cell_type": "code",
   "execution_count": null,
   "metadata": {},
   "outputs": [],
   "source": [
    "board.reset_bb()\n",
    "board.minus8(sq.d5)\n",
    "pprint_bb(board.bb)"
   ]
  },
  {
   "cell_type": "code",
   "execution_count": null,
   "metadata": {},
   "outputs": [],
   "source": [
    "board.reset_bb()\n",
    "board.minus1(sq.d5)\n",
    "pprint_bb(board.bb)"
   ]
  }
 ],
 "metadata": {
  "kernelspec": {
   "display_name": "Python 3",
   "language": "python",
   "name": "python3"
  },
  "language_info": {
   "codemirror_mode": {
    "name": "ipython",
    "version": 3
   },
   "file_extension": ".py",
   "mimetype": "text/x-python",
   "name": "python",
   "nbconvert_exporter": "python",
   "pygments_lexer": "ipython3",
   "version": "3.8.5"
  },
  "pycharm": {
   "stem_cell": {
    "cell_type": "raw",
    "source": [],
    "metadata": {
     "collapsed": false
    }
   }
  }
 },
 "nbformat": 4,
 "nbformat_minor": 4
}