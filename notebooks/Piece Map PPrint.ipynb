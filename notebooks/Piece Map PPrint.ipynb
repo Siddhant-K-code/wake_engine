{
 "cells": [
  {
   "cell_type": "code",
   "execution_count": 1,
   "metadata": {},
   "outputs": [],
   "source": [
    "import string\n",
    "import numpy as np\n",
    "from numpy import uint64 as u\n",
    "\n",
    "from bitboard_helpers import pprint_bb, pprint_pieces, set_bit, clear_bit\n",
    "from numpy import uint64 as u\n",
    "\n",
    "from board import Board\n",
    "from constants import Square as sq\n",
    "from game import Game\n",
    "from position import Position\n",
    "\n",
    "from bitboard_helpers import pprint_bb, set_bit, get_binary_string, make_uint64\n",
    "from constants import File, Piece, Square as sq\n",
    "from game import Game\n",
    "from move import Move"
   ]
  },
  {
   "cell_type": "code",
   "execution_count": 2,
   "metadata": {},
   "outputs": [],
   "source": [
    "game = Game()\n",
    "position = game.get_current_position()\n",
    "board = position.board"
   ]
  },
  {
   "cell_type": "code",
   "execution_count": 3,
   "metadata": {},
   "outputs": [
    {
     "name": "stdout",
     "output_type": "stream",
     "text": [
      "8  ▓ ▓ ▓ ▓ ▓ ▓ ▓ ▓\n",
      "7  ▓ ▓ ▓ ▓ ▓ ▓ ▓ ▓\n",
      "6  ░ ░ ░ ░ ░ ░ ░ ░\n",
      "5  ░ ░ ░ ░ ░ ░ ░ ░\n",
      "4  ░ ░ ░ ░ ░ ░ ░ ░\n",
      "3  ░ ░ ░ ░ ░ ░ ░ ░\n",
      "2  ▓ ▓ ▓ ▓ ▓ ▓ ▓ ▓\n",
      "1  ▓ ▓ ▓ ▓ ▓ ▓ ▓ ▓\n",
      "   A B C D E F G H\n"
     ]
    }
   ],
   "source": [
    "pprint_bb(board.occupied_squares_bb)"
   ]
  },
  {
   "cell_type": "code",
   "execution_count": 4,
   "metadata": {},
   "outputs": [],
   "source": [
    "piece_map = position.piece_map"
   ]
  },
  {
   "cell_type": "code",
   "execution_count": 5,
   "metadata": {},
   "outputs": [
    {
     "name": "stdout",
     "output_type": "stream",
     "text": [
      "8  ♜ ♞ ♝ ♛ ♚ ♝ ♞ ♜\n",
      "7  ♟︎ ♟︎ ♟︎ ♟︎ ♟︎ ♟︎ ♟︎ ♟︎\n",
      "6  ░ ░ ░ ░ ░ ░ ░ ░\n",
      "5  ░ ░ ░ ░ ░ ░ ░ ░\n",
      "4  ░ ░ ░ ░ ░ ░ ░ ░\n",
      "3  ░ ░ ░ ░ ░ ░ ░ ░\n",
      "2  ♙ ♙ ♙ ♙ ♙ ♙ ♙ ♙\n",
      "1  ♖ ♘ ♗ ♕ ♔ ♗ ♘ ♖\n",
      "   A B C D E F G H\n"
     ]
    }
   ],
   "source": [
    "pprint_pieces(piece_map)"
   ]
  }
 ],
 "metadata": {
  "kernelspec": {
   "display_name": "Python 3",
   "language": "python",
   "name": "python3"
  },
  "language_info": {
   "codemirror_mode": {
    "name": "ipython",
    "version": 3
   },
   "file_extension": ".py",
   "mimetype": "text/x-python",
   "name": "python",
   "nbconvert_exporter": "python",
   "pygments_lexer": "ipython3",
   "version": "3.8.5"
  }
 },
 "nbformat": 4,
 "nbformat_minor": 4
}
