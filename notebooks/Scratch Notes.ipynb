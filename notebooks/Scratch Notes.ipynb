{
 "cells": [
  {
   "cell_type": "code",
   "execution_count": 1,
   "metadata": {},
   "outputs": [],
   "source": [
    "import numpy as np\n",
    "\n",
    "from bitboard_helpers import pprint_bb, set_bit, clear_bit\n",
    "from numpy import uint64 as u"
   ]
  },
  {
   "cell_type": "code",
   "execution_count": 2,
   "metadata": {},
   "outputs": [],
   "source": [
    "bb = u(12)"
   ]
  },
  {
   "cell_type": "code",
   "execution_count": 3,
   "metadata": {},
   "outputs": [
    {
     "name": "stdout",
     "output_type": "stream",
     "text": [
      "8  ░ ░ ░ ░ ░ ░ ░ ░\n",
      "7  ░ ░ ░ ░ ░ ░ ░ ░\n",
      "6  ░ ░ ░ ░ ░ ░ ░ ░\n",
      "5  ░ ░ ░ ░ ░ ░ ░ ░\n",
      "4  ░ ░ ░ ░ ░ ░ ░ ░\n",
      "3  ░ ░ ░ ░ ░ ░ ░ ░\n",
      "2  ░ ░ ░ ░ ░ ░ ░ ░\n",
      "1  ░ ░ ▓ ▓ ░ ░ ░ ░\n",
      "   A B C D E F G H\n"
     ]
    }
   ],
   "source": [
    "pprint_bb(bb)"
   ]
  },
  {
   "cell_type": "code",
   "execution_count": 4,
   "metadata": {},
   "outputs": [],
   "source": [
    "x = np.uint32(3)\n",
    "\n",
    "bb = clear_bit(bb,x)"
   ]
  },
  {
   "cell_type": "code",
   "execution_count": 5,
   "metadata": {},
   "outputs": [
    {
     "name": "stdout",
     "output_type": "stream",
     "text": [
      "8  ░ ░ ░ ░ ░ ░ ░ ░\n",
      "7  ░ ░ ░ ░ ░ ░ ░ ░\n",
      "6  ░ ░ ░ ░ ░ ░ ░ ░\n",
      "5  ░ ░ ░ ░ ░ ░ ░ ░\n",
      "4  ░ ░ ░ ░ ░ ░ ░ ░\n",
      "3  ░ ░ ░ ░ ░ ░ ░ ░\n",
      "2  ░ ░ ░ ░ ░ ░ ░ ░\n",
      "1  ░ ░ ▓ ░ ░ ░ ░ ░\n",
      "   A B C D E F G H\n"
     ]
    }
   ],
   "source": [
    "pprint_bb(bb)"
   ]
  },
  {
   "cell_type": "code",
   "execution_count": 6,
   "metadata": {},
   "outputs": [
    {
     "name": "stdout",
     "output_type": "stream",
     "text": [
      "8  ░ ░ ░ ░ ░ ░ ░ ░\n",
      "7  ░ ░ ░ ░ ░ ░ ░ ░\n",
      "6  ░ ░ ░ ░ ░ ░ ░ ░\n",
      "5  ░ ░ ░ ░ ░ ░ ░ ░\n",
      "4  ░ ░ ░ ░ ░ ░ ░ ░\n",
      "3  ░ ░ ░ ░ ░ ░ ░ ░\n",
      "2  ░ ░ ░ ░ ░ ░ ░ ░\n",
      "1  ░ ░ ▓ ░ ▓ ░ ░ ░\n",
      "   A B C D E F G H\n"
     ]
    }
   ],
   "source": [
    "bb = set_bit(bb, 4)\n",
    "pprint_bb(bb)"
   ]
  },
  {
   "cell_type": "code",
   "execution_count": 7,
   "metadata": {},
   "outputs": [
    {
     "data": {
      "text/plain": [
       "'10100'"
      ]
     },
     "execution_count": 7,
     "metadata": {},
     "output_type": "execute_result"
    }
   ],
   "source": [
    "np.binary_repr(bb)"
   ]
  },
  {
   "cell_type": "code",
   "execution_count": 8,
   "metadata": {},
   "outputs": [],
   "source": [
    "def set_bit(bitboard, bit):\n",
    "    return bitboard | np.uint64(1) << np.uint64(bit)"
   ]
  },
  {
   "cell_type": "code",
   "execution_count": 9,
   "metadata": {},
   "outputs": [
    {
     "name": "stdout",
     "output_type": "stream",
     "text": [
      "8  ░ ░ ░ ░ ░ ░ ░ ░\n",
      "7  ░ ░ ░ ░ ░ ░ ░ ░\n",
      "6  ░ ░ ░ ░ ░ ░ ░ ░\n",
      "5  ░ ░ ░ ░ ░ ░ ░ ░\n",
      "4  ░ ░ ░ ░ ░ ░ ░ ░\n",
      "3  ░ ░ ░ ░ ░ ░ ░ ░\n",
      "2  ░ ░ ░ ░ ░ ░ ░ ░\n",
      "1  ░ ░ ▓ ░ ▓ ░ ░ ░\n",
      "   A B C D E F G H\n"
     ]
    }
   ],
   "source": [
    "bb = set_bit(bb, 4)\n",
    "pprint_bb(bb)"
   ]
  },
  {
   "cell_type": "code",
   "execution_count": 10,
   "metadata": {},
   "outputs": [
    {
     "name": "stdout",
     "output_type": "stream",
     "text": [
      "8  ░ ░ ░ ░ ░ ░ ░ ░\n",
      "7  ░ ░ ░ ░ ░ ░ ░ ░\n",
      "6  ░ ░ ░ ░ ░ ░ ░ ░\n",
      "5  ░ ░ ░ ░ ░ ░ ░ ░\n",
      "4  ░ ░ ░ ░ ░ ░ ░ ░\n",
      "3  ░ ░ ░ ░ ░ ░ ░ ░\n",
      "2  ░ ░ ░ ░ ░ ░ ░ ░\n",
      "1  ░ ░ ▓ ░ ▓ ░ ░ ▓\n",
      "   A B C D E F G H\n"
     ]
    }
   ],
   "source": [
    "bb |= np.uint64(1) << np.uint64(7)\n",
    "pprint_bb(bb)"
   ]
  },
  {
   "cell_type": "markdown",
   "metadata": {},
   "source": [
    "### Notes:\n",
    "\n",
    "To get the first blocker in positive direction, bitscan the conjunction of sliding attack + occupied squares, first\n",
    "\n",
    "To get the first blocker in positive direction, bitscan the conjunction of sliding attack + occupied squares, last"
   ]
  },
  {
   "cell_type": "code",
   "execution_count": 11,
   "metadata": {},
   "outputs": [
    {
     "name": "stdout",
     "output_type": "stream",
     "text": [
      "8  ▓ ░ ░ ░ ░ ░ ░ ░\n",
      "7  ▓ ░ ░ ░ ░ ░ ░ ░\n",
      "6  ▓ ░ ░ ░ ░ ░ ░ ░\n",
      "5  ▓ ░ ░ ░ ░ ░ ░ ░\n",
      "4  ▓ ░ ░ ░ ░ ░ ░ ░\n",
      "3  ▓ ░ ░ ░ ░ ░ ░ ░\n",
      "2  ▓ ░ ░ ░ ░ ░ ░ ░\n",
      "1  ▓ ░ ░ ░ ░ ░ ░ ░\n",
      "   A B C D E F G H\n"
     ]
    }
   ],
   "source": [
    "# North attack\n",
    "bb = u(0)\n",
    "hot = np.uint64(1)\n",
    "for i in range(8):\n",
    "    bb |= hot << np.uint64(i*8)\n",
    "pprint_bb(bb)\n",
    "\n",
    "# To get the first blocker, bitscan the conjunction of sliding attack + occupied squares"
   ]
  },
  {
   "cell_type": "code",
   "execution_count": 12,
   "metadata": {},
   "outputs": [
    {
     "data": {
      "text/plain": [
       "32"
      ]
     },
     "execution_count": 12,
     "metadata": {},
     "output_type": "execute_result"
    }
   ],
   "source": [
    "import sys\n",
    "sys.getsizeof(bb)"
   ]
  },
  {
   "cell_type": "markdown",
   "metadata": {},
   "source": [
    "# Examining sliding piece intersection with a Rook - North\n",
    "\n",
    "- Get occupied squares\n",
    "- Bitwise AND with Ray Attack on otherwise empty board\n",
    "- Bitscan to get the LS1B of the intersection\n",
    "- This is the attacked square\n",
    "\n",
    "## Occupied Opponent Pieces"
   ]
  },
  {
   "cell_type": "code",
   "execution_count": 13,
   "metadata": {},
   "outputs": [
    {
     "name": "stdout",
     "output_type": "stream",
     "text": [
      "8  ░ ▓ ░ ░ ░ ░ ░ ░\n",
      "7  ░ ▓ ░ ░ ░ ░ ░ ░\n",
      "6  ░ ░ ░ ░ ░ ░ ░ ░\n",
      "5  ░ ░ ░ ░ ░ ░ ░ ░\n",
      "4  ░ ░ ░ ░ ░ ░ ░ ░\n",
      "3  ░ ░ ░ ░ ░ ░ ░ ░\n",
      "2  ░ ░ ░ ░ ░ ░ ░ ░\n",
      "1  ░ ░ ░ ░ ░ ░ ░ ░\n",
      "   A B C D E F G H\n"
     ]
    }
   ],
   "source": [
    "occupied = u(0)\n",
    "occupied |= hot << np.uint64(49)\n",
    "occupied |= hot << np.uint64(57)\n",
    "pprint_bb(occupied)"
   ]
  },
  {
   "cell_type": "markdown",
   "metadata": {},
   "source": [
    "## Ray Attack North from a Rook on b4"
   ]
  },
  {
   "cell_type": "code",
   "execution_count": 14,
   "metadata": {},
   "outputs": [
    {
     "name": "stdout",
     "output_type": "stream",
     "text": [
      "8  ░ ▓ ░ ░ ░ ░ ░ ░\n",
      "7  ░ ▓ ░ ░ ░ ░ ░ ░\n",
      "6  ░ ▓ ░ ░ ░ ░ ░ ░\n",
      "5  ░ ▓ ░ ░ ░ ░ ░ ░\n",
      "4  ░ ▓ ░ ░ ░ ░ ░ ░\n",
      "3  ░ ░ ░ ░ ░ ░ ░ ░\n",
      "2  ░ ░ ░ ░ ░ ░ ░ ░\n",
      "1  ░ ░ ░ ░ ░ ░ ░ ░\n",
      "   A B C D E F G H\n"
     ]
    }
   ],
   "source": [
    "attack_bb = u(0)\n",
    "\n",
    "sq = 25\n",
    "for i in range(0, 64, 8):\n",
    "    attack_bb |= hot << np.uint64(sq+i)\n",
    "pprint_bb(attack_bb)\n",
    "\n",
    "# To get the first blocker, bitscan the conjunction of EastAttack + occupied squares"
   ]
  },
  {
   "cell_type": "markdown",
   "metadata": {},
   "source": [
    "## Intersect the attack BB & Occupied BB"
   ]
  },
  {
   "cell_type": "code",
   "execution_count": 15,
   "metadata": {},
   "outputs": [
    {
     "name": "stdout",
     "output_type": "stream",
     "text": [
      "8  ░ ▓ ░ ░ ░ ░ ░ ░\n",
      "7  ░ ▓ ░ ░ ░ ░ ░ ░\n",
      "6  ░ ░ ░ ░ ░ ░ ░ ░\n",
      "5  ░ ░ ░ ░ ░ ░ ░ ░\n",
      "4  ░ ░ ░ ░ ░ ░ ░ ░\n",
      "3  ░ ░ ░ ░ ░ ░ ░ ░\n",
      "2  ░ ░ ░ ░ ░ ░ ░ ░\n",
      "1  ░ ░ ░ ░ ░ ░ ░ ░\n",
      "   A B C D E F G H\n"
     ]
    }
   ],
   "source": [
    "pprint_bb(attack_bb & occupied)\n",
    "intersection = attack_bb & occupied"
   ]
  },
  {
   "cell_type": "markdown",
   "metadata": {},
   "source": [
    "## Bitscan forward to get the Least Significant 1B (LS1B)"
   ]
  },
  {
   "cell_type": "code",
   "execution_count": 16,
   "metadata": {},
   "outputs": [
    {
     "name": "stdout",
     "output_type": "stream",
     "text": [
      "49\n"
     ]
    }
   ],
   "source": [
    "i=1\n",
    "while((intersection >> np.uint64(i))%2==0):\n",
    "    i+=1\n",
    "print(i)"
   ]
  },
  {
   "cell_type": "code",
   "execution_count": 17,
   "metadata": {},
   "outputs": [
    {
     "name": "stdout",
     "output_type": "stream",
     "text": [
      "8  ░ ░ ░ ░ ░ ░ ░ ░\n",
      "7  ░ ▓ ░ ░ ░ ░ ░ ░\n",
      "6  ░ ░ ░ ░ ░ ░ ░ ░\n",
      "5  ░ ░ ░ ░ ░ ░ ░ ░\n",
      "4  ░ ░ ░ ░ ░ ░ ░ ░\n",
      "3  ░ ░ ░ ░ ░ ░ ░ ░\n",
      "2  ░ ░ ░ ░ ░ ░ ░ ░\n",
      "1  ░ ░ ░ ░ ░ ░ ░ ░\n",
      "   A B C D E F G H\n"
     ]
    }
   ],
   "source": [
    "attacked_square = u(0)\n",
    "attacked_square |= hot << np.uint64(49)\n",
    "pprint_bb(attacked_square)"
   ]
  },
  {
   "cell_type": "markdown",
   "metadata": {},
   "source": [
    "# Examining sliding piece intersection with a Rook - South\n",
    "\n",
    "- Get occupied squares\n",
    "- Bitwise AND with Ray Attack on otherwise empty board\n",
    "- Bitscan reverse to get the MS1B of the intersection\n",
    "- This is the attacked square"
   ]
  },
  {
   "cell_type": "code",
   "execution_count": 18,
   "metadata": {},
   "outputs": [],
   "source": [
    " #\n",
    " # bitScanReverse\n",
    " # @author Eugene Nalimov\n",
    " # @param bb bitboard to scan\n",
    " # @return index (0..63) of most significant one bit\n",
    " # \n",
    "def reverse_bitscan(bb: np.uint64) -> np.uint64:\n",
    "    if not bb:\n",
    "        raise Exception(\"oops\")\n",
    "        \n",
    "    result = np.uint64(0)\n",
    "    \n",
    "    if (bb > 0xFFFFFFFF):\n",
    "        bb >>= u(32)\n",
    "        result = u(32)\n",
    "    \n",
    "    if (bb > 0xFFFF):\n",
    "        bb >>= u(16)\n",
    "        result += u(16)\n",
    "    \n",
    "    if (bb > 0xFF):\n",
    "        bb >>= u(8)\n",
    "        result += u(8)\n",
    "    \n",
    "    return result + most_significant_1_bit_table(bb)\n",
    "\n",
    "\n",
    "def most_significant_1_bit_table(bit: np.uint64) -> np.uint64:\n",
    "    if bit > np.uint64(127): return np.uint64(7)\n",
    "    if bit > np.uint64(63):  return np.uint64(6)\n",
    "    if bit > np.uint64(31):  return np.uint64(5)\n",
    "    if bit > np.uint64(15):  return np.uint64(4)\n",
    "    if bit > np.uint64(7):   return np.uint64(3)\n",
    "    if bit > np.uint64(1):   return np.uint64(1)\n",
    "    return np.uint64(0)\n"
   ]
  },
  {
   "cell_type": "code",
   "execution_count": 19,
   "metadata": {},
   "outputs": [
    {
     "name": "stdout",
     "output_type": "stream",
     "text": [
      "8  ░ ░ ░ ░ ░ ░ ░ ░\n",
      "7  ░ ░ ░ ░ ░ ░ ░ ░\n",
      "6  ░ ░ ░ ░ ░ ░ ░ ░\n",
      "5  ░ ░ ░ ░ ░ ░ ░ ░\n",
      "4  ░ ░ ░ ░ ░ ░ ░ ░\n",
      "3  ░ ░ ░ ░ ░ ░ ▓ ░\n",
      "2  ░ ░ ░ ░ ░ ░ ░ ░\n",
      "1  ░ ░ ░ ░ ░ ░ ▓ ░\n",
      "   A B C D E F G H\n"
     ]
    }
   ],
   "source": [
    "occupied = u(0)\n",
    "occupied |= hot << np.uint64(6)\n",
    "occupied |= hot << np.uint64(22)\n",
    "pprint_bb(occupied)"
   ]
  },
  {
   "cell_type": "code",
   "execution_count": 20,
   "metadata": {},
   "outputs": [
    {
     "name": "stdout",
     "output_type": "stream",
     "text": [
      "8  ░ ░ ░ ░ ░ ░ ░ ░\n",
      "7  ▓ ▓ ▓ ▓ ▓ ▓ ▓ ▓\n",
      "6  ░ ░ ░ ░ ░ ░ ░ ░\n",
      "5  ░ ░ ░ ░ ░ ░ ░ ░\n",
      "4  ░ ░ ░ ░ ░ ░ ░ ░\n",
      "3  ░ ░ ░ ░ ░ ░ ░ ░\n",
      "2  ░ ░ ░ ░ ░ ░ ░ ░\n",
      "1  ░ ░ ░ ░ ░ ░ ░ ░\n",
      "   A B C D E F G H\n"
     ]
    }
   ],
   "source": [
    "# East\n",
    "\n",
    "attack_bb = u(0)\n",
    "\n",
    "sq = np.uint64(48)\n",
    "\n",
    "if sq % 8 == 0:\n",
    "    attack_bb |= hot << np.uint64(sq)\n",
    "    sq += 1\n",
    "\n",
    "while not sq % 8 == 0:\n",
    "    attack_bb |= hot << np.uint64(sq)\n",
    "    sq += 1\n",
    "\n",
    "pprint_bb(attack_bb)"
   ]
  },
  {
   "cell_type": "code",
   "execution_count": 21,
   "metadata": {},
   "outputs": [
    {
     "name": "stdout",
     "output_type": "stream",
     "text": [
      "8  ░ ░ ░ ░ ░ ░ ░ ░\n",
      "7  ░ ░ ░ ░ ░ ░ ░ ░\n",
      "6  ░ ░ ░ ░ ░ ░ ░ ▓\n",
      "5  ░ ░ ░ ░ ░ ░ ▓ ░\n",
      "4  ░ ░ ░ ░ ░ ▓ ░ ░\n",
      "3  ░ ░ ░ ░ ▓ ░ ░ ░\n",
      "2  ░ ░ ░ ▓ ░ ░ ░ ░\n",
      "1  ░ ░ ░ ░ ░ ░ ░ ░\n",
      "   A B C D E F G H\n"
     ]
    }
   ],
   "source": [
    "# Diagonal\n",
    "\n",
    "attack_bb = u(0)\n",
    "\n",
    "sq = np.uint64(11)\n",
    "\n",
    "if sq % 8 == 0:\n",
    "    attack_bb |= hot << np.uint64(sq)\n",
    "    sq += 9\n",
    "\n",
    "while not sq % 8 == 0:\n",
    "    attack_bb |= hot << np.uint64(sq)\n",
    "    sq += 9\n",
    "\n",
    "pprint_bb(attack_bb)"
   ]
  },
  {
   "cell_type": "code",
   "execution_count": 22,
   "metadata": {},
   "outputs": [
    {
     "name": "stdout",
     "output_type": "stream",
     "text": [
      "8  ░ ░ ░ ░ ░ ░ ░ ░\n",
      "7  ░ ░ ░ ░ ░ ░ ░ ░\n",
      "6  ░ ░ ░ ░ ░ ░ ░ ░\n",
      "5  ░ ░ ░ ░ ░ ░ ░ ░\n",
      "4  ░ ░ ░ ░ ░ ░ ░ ░\n",
      "3  ░ ░ ░ ░ ░ ░ ░ ░\n",
      "2  ░ ░ ░ ░ ░ ░ ░ ░\n",
      "1  ▓ ░ ░ ░ ░ ░ ░ ░\n",
      "   A B C D E F G H\n"
     ]
    }
   ],
   "source": [
    "# Anti-Diagonal\n",
    "\n",
    "attack_bb = u(0)\n",
    "\n",
    "sq = np.uint64(0)\n",
    "\n",
    "if sq % 8 == 0:\n",
    "    attack_bb |= hot << np.uint64(sq)\n",
    "    sq -= 9\n",
    "else:\n",
    "    while not sq % 8 == 0:\n",
    "        attack_bb |= hot << np.uint64(sq)\n",
    "        sq -= 9\n",
    "    attack_bb |= hot << np.uint64(sq)\n",
    "\n",
    "pprint_bb(attack_bb)"
   ]
  },
  {
   "cell_type": "code",
   "execution_count": 23,
   "metadata": {},
   "outputs": [
    {
     "data": {
      "text/plain": [
       "0"
      ]
     },
     "execution_count": 23,
     "metadata": {},
     "output_type": "execute_result"
    }
   ],
   "source": [
    "8 % 8"
   ]
  },
  {
   "cell_type": "code",
   "execution_count": 24,
   "metadata": {},
   "outputs": [
    {
     "name": "stdout",
     "output_type": "stream",
     "text": [
      "8  ░ ░ ░ ░ ░ ░ ░ ░\n",
      "7  ░ ░ ░ ░ ░ ░ ░ ░\n",
      "6  ░ ░ ░ ░ ░ ░ ░ ░\n",
      "5  ░ ░ ░ ░ ░ ░ ░ ░\n",
      "4  ░ ░ ░ ░ ░ ░ ░ ░\n",
      "3  ░ ░ ░ ░ ░ ░ ░ ░\n",
      "2  ░ ░ ░ ░ ░ ░ ░ ░\n",
      "1  ░ ░ ░ ░ ░ ░ ░ ░\n",
      "   A B C D E F G H\n"
     ]
    }
   ],
   "source": [
    "pprint_bb(attack_bb & occupied)\n",
    "intersection = attack_bb & occupied"
   ]
  },
  {
   "cell_type": "markdown",
   "metadata": {},
   "source": [
    "## King Attack Bitboard"
   ]
  },
  {
   "cell_type": "code",
   "execution_count": 25,
   "metadata": {},
   "outputs": [
    {
     "name": "stdout",
     "output_type": "stream",
     "text": [
      "8  ░ ░ ░ ░ ░ ░ ▓ ▓\n",
      "7  ░ ░ ░ ░ ░ ░ ▓ ▓\n",
      "6  ░ ░ ░ ░ ░ ░ ░ ░\n",
      "5  ░ ░ ░ ░ ░ ░ ░ ░\n",
      "4  ░ ░ ░ ░ ░ ░ ░ ░\n",
      "3  ░ ░ ░ ░ ░ ░ ░ ░\n",
      "2  ░ ░ ░ ░ ░ ░ ░ ░\n",
      "1  ░ ░ ░ ░ ░ ░ ░ ░\n",
      "   A B C D E F G H\n"
     ]
    }
   ],
   "source": [
    "attack_bb = u(0)\n",
    "\n",
    "afile = np.uint64(0x0101010101010101)\n",
    "hfile = np.uint64(0x8080808080808080)\n",
    "\n",
    "sq = np.uint64(63)\n",
    "for i in [0, 8, -8]:\n",
    "    # north-south\n",
    "    attack_bb |= hot << np.uint64(sq+i)\n",
    "for i in [1, 9, -7]:\n",
    "    # east\n",
    "    attack_bb |= hot << np.uint64(sq+i) & ~afile\n",
    "for i in [-1, -9, 7]:\n",
    "    # west\n",
    "    attack_bb |= hot << np.uint64(sq+i) & ~hfile\n",
    "\n",
    "pprint_bb(attack_bb)"
   ]
  },
  {
   "cell_type": "code",
   "execution_count": 26,
   "metadata": {},
   "outputs": [
    {
     "name": "stdout",
     "output_type": "stream",
     "text": [
      "8  ░ ░ ░ ░ ░ ░ ▓ ▓\n",
      "7  ░ ░ ░ ░ ░ ░ ▓ ▓\n",
      "6  ░ ░ ░ ░ ░ ░ ░ ░\n",
      "5  ░ ░ ░ ░ ░ ░ ░ ░\n",
      "4  ░ ░ ░ ░ ░ ░ ░ ░\n",
      "3  ░ ░ ░ ▓ ▓ ▓ ░ ░\n",
      "2  ░ ░ ░ ▓ ▓ ▓ ░ ░\n",
      "1  ░ ░ ░ ▓ ▓ ▓ ░ ░\n",
      "   A B C D E F G H\n"
     ]
    }
   ],
   "source": [
    "sq = np.uint64(12)\n",
    "for i in [0, 8, -8]:\n",
    "    # north-south\n",
    "    attack_bb |= hot << np.uint64(sq+i)\n",
    "for i in [1, 9, -7]:\n",
    "    # east\n",
    "    attack_bb |= hot << np.uint64(sq+i) & ~afile\n",
    "for i in [-1, -9, 7]:\n",
    "    # west\n",
    "    attack_bb |= hot << np.uint64(sq+i) & ~hfile\n",
    "\n",
    "pprint_bb(attack_bb)"
   ]
  },
  {
   "cell_type": "code",
   "execution_count": 27,
   "metadata": {},
   "outputs": [
    {
     "name": "stdout",
     "output_type": "stream",
     "text": [
      "8  ░ ░ ░ ░ ░ ░ ▓ ▓\n",
      "7  ░ ░ ░ ░ ░ ░ ▓ ▓\n",
      "6  ▓ ▓ ░ ░ ░ ░ ░ ░\n",
      "5  ▓ ▓ ░ ░ ░ ░ ░ ░\n",
      "4  ▓ ▓ ░ ░ ░ ░ ░ ░\n",
      "3  ░ ░ ░ ▓ ▓ ▓ ░ ░\n",
      "2  ░ ░ ░ ▓ ▓ ▓ ░ ░\n",
      "1  ░ ░ ░ ▓ ▓ ▓ ░ ░\n",
      "   A B C D E F G H\n"
     ]
    }
   ],
   "source": [
    "sq = np.uint64(32)\n",
    "for i in [0, 8, -8]:\n",
    "    # north-south\n",
    "    attack_bb |= hot << np.uint64(sq+i)\n",
    "for i in [1, 9, -7]:\n",
    "    # east\n",
    "    attack_bb |= hot << np.uint64(sq+i) & ~afile\n",
    "for i in [-1, -9, 7]:\n",
    "    # west\n",
    "    attack_bb |= hot << np.uint64(sq+i) & ~hfile\n",
    "\n",
    "pprint_bb(attack_bb)"
   ]
  },
  {
   "cell_type": "markdown",
   "metadata": {},
   "source": [
    "## Pawn Attack Bitboard"
   ]
  },
  {
   "cell_type": "code",
   "execution_count": 28,
   "metadata": {},
   "outputs": [
    {
     "name": "stdout",
     "output_type": "stream",
     "text": [
      "8  ░ ░ ░ ░ ░ ░ ░ ░\n",
      "7  ░ ░ ░ ░ ░ ░ ░ ░\n",
      "6  ░ ░ ░ ░ ░ ░ ░ ░\n",
      "5  ░ ░ ░ ▓ ░ ▓ ░ ░\n",
      "4  ░ ░ ░ ░ ░ ░ ░ ░\n",
      "3  ░ ░ ░ ░ ░ ░ ░ ░\n",
      "2  ░ ░ ░ ░ ░ ░ ░ ░\n",
      "1  ░ ░ ░ ░ ░ ░ ░ ░\n",
      "   A B C D E F G H\n"
     ]
    }
   ],
   "source": [
    "sq = np.uint64(28)\n",
    "\n",
    "attack_bb = u(0)\n",
    "\n",
    "afile = np.uint64(0x0101010101010101)\n",
    "hfile = np.uint64(0x8080808080808080)\n",
    "\n",
    "# east\n",
    "attack_bb |= hot << np.uint64(sq+9) & ~afile\n",
    "attack_bb |= hot << np.uint64(sq+7) & ~hfile\n",
    "\n",
    "pprint_bb(attack_bb)"
   ]
  },
  {
   "cell_type": "code",
   "execution_count": 29,
   "metadata": {},
   "outputs": [
    {
     "data": {
      "text/plain": [
       "32"
      ]
     },
     "execution_count": 29,
     "metadata": {},
     "output_type": "execute_result"
    }
   ],
   "source": [
    "sys.getsizeof(np.uint64(1))"
   ]
  },
  {
   "cell_type": "markdown",
   "metadata": {},
   "source": [
    "## Pawn Motion Bitboard\n"
   ]
  },
  {
   "cell_type": "code",
   "execution_count": 30,
   "metadata": {},
   "outputs": [
    {
     "name": "stdout",
     "output_type": "stream",
     "text": [
      "8  ░ ░ ░ ░ ░ ░ ░ ░\n",
      "7  ░ ░ ░ ░ ░ ░ ░ ░\n",
      "6  ░ ░ ░ ░ ░ ░ ░ ░\n",
      "5  ░ ░ ░ ░ ░ ░ ░ ░\n",
      "4  ░ ▓ ░ ░ ░ ░ ░ ░\n",
      "3  ░ ▓ ░ ░ ░ ░ ░ ░\n",
      "2  ░ ░ ░ ░ ░ ░ ░ ░\n",
      "1  ░ ░ ░ ░ ░ ░ ░ ░\n",
      "   A B C D E F G H\n"
     ]
    }
   ],
   "source": [
    "motion_bb = u(0)\n",
    "square = np.uint64(9)\n",
    "\n",
    "if square in {8,9,10}:\n",
    "    pass\n",
    "    motion_bb |= hot << np.uint64(square + 8)\n",
    "    motion_bb |= hot << np.uint64(square + 16)\n",
    "    \n",
    "pprint_bb(motion_bb)"
   ]
  },
  {
   "cell_type": "code",
   "execution_count": 32,
   "metadata": {},
   "outputs": [
    {
     "name": "stdout",
     "output_type": "stream",
     "text": [
      "8  ░ ░ ░ ░ ░ ░ ░ ░\n",
      "7  ░ ░ ░ ░ ░ ░ ░ ░\n",
      "6  ░ ░ ░ ░ ░ ░ ░ ░\n",
      "5  ░ ░ ░ ░ ░ ░ ░ ░\n",
      "4  ░ ░ ░ ░ ░ ░ ░ ░\n",
      "3  ░ ░ ░ ░ ░ ░ ░ ░\n",
      "2  ░ ░ ░ ░ ▓ ░ ░ ░\n",
      "1  ░ ░ ░ ░ ░ ░ ░ ░\n",
      "   A B C D E F G H\n"
     ]
    }
   ],
   "source": [
    "motion_bb = u(np.uint64(0))\n",
    "motion_bb = set_bit(motion_bb, np.uint64(4))\n",
    "pprint_bb(motion_bb << np.uint64(8))"
   ]
  }
 ],
 "metadata": {
  "kernelspec": {
   "display_name": "Python 3",
   "language": "python",
   "name": "python3"
  },
  "language_info": {
   "codemirror_mode": {
    "name": "ipython",
    "version": 3
   },
   "file_extension": ".py",
   "mimetype": "text/x-python",
   "name": "python",
   "nbconvert_exporter": "python",
   "pygments_lexer": "ipython3",
   "version": "3.8.5"
  }
 },
 "nbformat": 4,
 "nbformat_minor": 4
}
